{
  "cells": [
    {
      "cell_type": "markdown",
      "metadata": {
        "id": "view-in-github",
        "colab_type": "text"
      },
      "source": [
        "<a href=\"https://colab.research.google.com/github/bhuvansun/data-structures-and-algorithms-in-python/blob/main/python_divide_and_conquer_assignment.ipynb\" target=\"_parent\"><img src=\"https://colab.research.google.com/assets/colab-badge.svg\" alt=\"Open In Colab\"/></a>"
      ]
    },
    {
      "cell_type": "markdown",
      "id": "difficult-valuation",
      "metadata": {
        "id": "difficult-valuation"
      },
      "source": [
        "# Assignment 3 - Divide-n-Conquer Algorithms in Python\n",
        "\n",
        "_This assignment is a part of the course [\"Data Structures and Algorithms in Python\"](https://jovian.ai/learn/data-structures-and-algorithms-in-python)._\n",
        "\n",
        "In this assignment, you will implement an efficient algorithm for polynomial multiplication.\n",
        "\n",
        "As you go through this notebook, you will find the symbol **???** in certain places. To complete this assignment, you must replace all the **???** with appropriate values, expressions or statements to ensure that the notebook runs properly end-to-end.\n",
        "\n",
        "**Guidelines**\n",
        "\n",
        "1. Make sure to run all the code cells, otherwise you may get errors like `NameError` for undefined variables.\n",
        "2. Do not change variable names, delete cells or disturb other existing code. It may cause problems during evaluation.\n",
        "3. In some cases, you may need to add some code cells or new statements before or after the line of code containing the **???**.\n",
        "4. Since you'll be using a temporary online service for code execution, save your work by running `jovian.commit` at regular intervals.\n",
        "5. Questions marked **(Optional)** will not be considered for evaluation, and can be skipped. They are for your learning.\n",
        "6. If you are stuck, you can ask for help on the [community forum] (TODO - add link). Post errors or ask for hints, but **please don't ask for OR share the full working answer code** on the forum.\n",
        "7. There are some tests included with this notebook to help you test your implementation. However, after submission your code will be tested with some hidden test cases. Make sure to test your code exhaustively to cover all edge cases.\n",
        "\n",
        "\n",
        "**Important Links**\n",
        "\n",
        "* Submit your work here: https://jovian.ai/learn/data-structures-and-algorithms-in-python/assignment/assignment-3-sorting-and-divide-conquer-practice\n",
        "* Ask questions and get help: https://jovian.ai/forum/c/data-structures-and-algorithms-in-python/assignment-3/89\n",
        "* Lesson 3 video for review: https://jovian.ai/learn/data-structures-and-algorithms-in-python/lesson/lesson-3-sorting-algorithms-and-divide-and-conquer\n",
        "* Lesson 3 notebook for review: https://jovian.ai/aakashns/python-sorting-divide-and-conquer\n"
      ]
    },
    {
      "cell_type": "markdown",
      "id": "japanese-beverage",
      "metadata": {
        "id": "japanese-beverage"
      },
      "source": [
        "### How to Run the Code and Save Your Work\n",
        "\n",
        "**Option 1: Running using free online resources (1-click, recommended)**: Click the **Run** button at the top of this page and select **Run on Binder**. You can also select \"Run on Colab\" or \"Run on Kaggle\", but you'll need to create an account on [Google Colab](https://colab.research.google.com) or [Kaggle](https://kaggle.com) to use these platforms.\n",
        "\n",
        "\n",
        "**Option 2: Running on your computer locally**: To run the code on your computer locally, you'll need to set up [Python](https://www.python.org) & [Conda](https://docs.conda.io/projects/conda/en/latest/user-guide/install/), download the notebook and install the required libraries. Click the **Run** button at the top of this page, select the **Run Locally** option, and follow the instructions.\n",
        "\n",
        "**Saving your work**: You can save a snapshot of the assignment to your [Jovian](https://jovian.ai) profile, so that you can access it later and continue your work. Keep saving your work by running `jovian.commit` from time to time."
      ]
    },
    {
      "cell_type": "code",
      "execution_count": null,
      "id": "revised-italy",
      "metadata": {
        "id": "revised-italy"
      },
      "outputs": [],
      "source": [
        "project='python-divide-and-conquer-assignment'"
      ]
    },
    {
      "cell_type": "code",
      "execution_count": null,
      "id": "genuine-simon",
      "metadata": {
        "colab": {
          "base_uri": "https://localhost:8080/"
        },
        "id": "genuine-simon",
        "outputId": "6af91d00-0196-41e4-8ddb-0978d0d35681"
      },
      "outputs": [
        {
          "name": "stdout",
          "output_type": "stream",
          "text": [
            "\u001b[?25l     \u001b[90m━━━━━━━━━━━━━━━━━━━━━━━━━━━━━━━━━━━━━━━━\u001b[0m \u001b[32m0.0/68.6 kB\u001b[0m \u001b[31m?\u001b[0m eta \u001b[36m-:--:--\u001b[0m\r",
            "\u001b[2K     \u001b[90m━━━━━━━━━━━━━━━━━━━━━━━━━━━━━━━━━━━━━━━━\u001b[0m \u001b[32m68.6/68.6 kB\u001b[0m \u001b[31m3.9 MB/s\u001b[0m eta \u001b[36m0:00:00\u001b[0m\n",
            "\u001b[?25h  Preparing metadata (setup.py) ... \u001b[?25l\u001b[?25hdone\n",
            "  Building wheel for uuid (setup.py) ... \u001b[?25l\u001b[?25hdone\n"
          ]
        }
      ],
      "source": [
        "!pip install jovian --upgrade --quiet"
      ]
    },
    {
      "cell_type": "code",
      "execution_count": null,
      "id": "velvet-extraction",
      "metadata": {
        "colab": {
          "base_uri": "https://localhost:8080/"
        },
        "id": "velvet-extraction",
        "outputId": "701c7f2e-6473-42c9-bc0d-2e8da3d5ed69"
      },
      "outputs": [
        {
          "name": "stdout",
          "output_type": "stream",
          "text": [
            "[jovian] Detected Colab notebook...\u001b[0m\n",
            "[jovian] jovian.commit() is no longer required on Google Colab. If you ran this notebook from Jovian, \n",
            "then just save this file in Colab using Ctrl+S/Cmd+S and it will be updated on Jovian. \n",
            "Also, you can also delete this cell, it's no longer necessary.\u001b[0m\n"
          ]
        }
      ],
      "source": [
        "import jovian\n",
        "jovian.commit(project=project, privacy='secret', environment=None)"
      ]
    },
    {
      "cell_type": "markdown",
      "id": "final-database",
      "metadata": {
        "id": "final-database"
      },
      "source": [
        "## Problem Statement - Polynomial Multiplication\n",
        "\n",
        "> Given two polynomials represented by two lists, write a function that efficiently multiplies given two polynomials. For example, the lists `[2, 0, 5, 7]` and `[3, 4, 2]` represent the polynomials $2 + 5x^2 + 7x^3$ and $3 + 4x + 2x^2$.\n",
        ">\n",
        "> Their product is\n",
        ">\n",
        "> $(2 \\times 3) + (2 \\times 4 + 0 \\times 3)x + (2 \\times 2 + 3 \\times 5 + 4 \\times 0)x^2 + (7 \\times 3 + 5 \\times 4 + 0 \\times 2)x^3 + (7 \\times 4 + 5 \\times 2)x^4 + (7 \\times 2)x^5$ i.e.\n",
        ">\n",
        ">$6 + 8x + 19x^2 + 41x^3 + 38x^4 + 14x^5$\n",
        ">\n",
        ">It can be represented by the list `[6, 8, 19, 41, 38, 14]`.\n"
      ]
    },
    {
      "cell_type": "markdown",
      "id": "completed-evolution",
      "metadata": {
        "id": "completed-evolution"
      },
      "source": [
        "## The Method\n",
        "\n",
        "Here's the systematic strategy we'll apply for solving problems:\n",
        "\n",
        "1. State the problem clearly. Identify the input & output formats.\n",
        "2. Come up with some example inputs & outputs. Try to cover all edge cases.\n",
        "3. Come up with a correct solution for the problem. State it in plain English.\n",
        "4. Implement the solution and test it using example inputs. Fix bugs, if any.\n",
        "5. Analyze the algorithm's complexity and identify inefficiencies, if any.\n",
        "6. Apply the right technique to overcome the inefficiency. Repeat steps 3 to 6.\n",
        "\n",
        "This approach is explained in detail in [Lesson 1](https://jovian.ai/learn/data-structures-and-algorithms-in-python/lesson/lesson-1-binary-search-linked-lists-and-complexity) of the course. Let's apply this approach step-by-step."
      ]
    },
    {
      "cell_type": "markdown",
      "id": "compressed-intellectual",
      "metadata": {
        "id": "compressed-intellectual"
      },
      "source": [
        "## Solution\n",
        "\n",
        "\n",
        "### 1. State the problem clearly. Identify the input & output formats.\n",
        "\n",
        "While this problem is stated clearly enough, it's always useful to try and express in your own words, in a way that makes it most clear for you.\n",
        "\n",
        "\n",
        "**Problem**\n",
        "\n",
        "> Multiplying two polynomials and representing their product in terms of the coefficients of their orders.\n",
        "\n",
        "<br/>\n",
        "\n",
        "\n",
        "**Input**\n",
        "\n",
        "1. [1, 2, 3, 4]\n",
        "2. [5, 6, 7]\n",
        "\n",
        "\n",
        "\n",
        "**Output**\n",
        "\n",
        "1. [5, 16, 34, 52, 45, 28]\n",
        "\n",
        "\n",
        "<br/>\n",
        "\n",
        "Based on the above, we can now create a signature of our function:"
      ]
    },
    {
      "cell_type": "code",
      "execution_count": null,
      "id": "frank-professor",
      "metadata": {
        "id": "frank-professor"
      },
      "outputs": [],
      "source": [
        "def multiply(poly1, poly2):\n",
        "    pass"
      ]
    },
    {
      "cell_type": "code",
      "execution_count": null,
      "id": "unauthorized-amendment",
      "metadata": {
        "id": "unauthorized-amendment"
      },
      "outputs": [],
      "source": [
        "import jovian"
      ]
    },
    {
      "cell_type": "code",
      "execution_count": null,
      "id": "exposed-extension",
      "metadata": {
        "colab": {
          "base_uri": "https://localhost:8080/"
        },
        "id": "exposed-extension",
        "outputId": "cd474075-5807-4764-880d-3e5ef8dd1db8"
      },
      "outputs": [
        {
          "name": "stdout",
          "output_type": "stream",
          "text": [
            "[jovian] Detected Colab notebook...\u001b[0m\n",
            "[jovian] jovian.commit() is no longer required on Google Colab. If you ran this notebook from Jovian, \n",
            "then just save this file in Colab using Ctrl+S/Cmd+S and it will be updated on Jovian. \n",
            "Also, you can also delete this cell, it's no longer necessary.\u001b[0m\n"
          ]
        }
      ],
      "source": [
        "jovian.commit()"
      ]
    },
    {
      "cell_type": "markdown",
      "id": "latin-choir",
      "metadata": {
        "id": "latin-choir"
      },
      "source": [
        "### 2. Come up with some example inputs & outputs. Try to cover all edge cases.\n",
        "\n",
        "Our function should be able to handle any set of valid inputs we pass into it. List a few scenarios here:\n",
        "\n",
        "1. One or both the lists are empty(result should be 0).\n",
        "2. One list only has 1s(result would be the other list).\n",
        "3. Both lists are same.\n",
        "4. Both lists are of same/different size.\n",
        "5. A list containing just one element.\n",
        "\n",
        "\n",
        "Create a test case of each of the above scenarios. We'll express our test cases as dictionaries, to test them easily. Each dictionary will contain 2 keys: `input` (a dictionary itself containing one key for each argument to the function and `output` (the expected result from the function)."
      ]
    },
    {
      "cell_type": "code",
      "execution_count": null,
      "id": "fancy-exhaust",
      "metadata": {
        "id": "fancy-exhaust"
      },
      "outputs": [],
      "source": [
        "test0 = {\n",
        "    'input': {\n",
        "        'poly1': [2, 0, 5, 7],\n",
        "        'poly2': [3, 4, 2]\n",
        "    },\n",
        "    'output': [6, 8, 19, 41, 38, 14]\n",
        "}"
      ]
    },
    {
      "cell_type": "code",
      "execution_count": null,
      "id": "featured-poster",
      "metadata": {
        "id": "featured-poster"
      },
      "outputs": [],
      "source": [
        "test1 = {\n",
        "    'input': {\n",
        "        'poly1': [4, 6, 2, 8, 7],\n",
        "        'poly2': [5, 9, 1, 4]\n",
        "    },\n",
        "    'output': [20, 66, 68, 80, 133, 79, 39, 28]\n",
        "}"
      ]
    },
    {
      "cell_type": "code",
      "execution_count": null,
      "id": "matched-horizon",
      "metadata": {
        "id": "matched-horizon"
      },
      "outputs": [],
      "source": [
        "test2 = {\n",
        "    'input': {\n",
        "        'poly1': [2, 4],\n",
        "        'poly2': [2, 7, 5]\n",
        "    },\n",
        "    'output': [4, 22, 38, 20]\n",
        "}"
      ]
    },
    {
      "cell_type": "code",
      "execution_count": null,
      "id": "functional-personal",
      "metadata": {
        "id": "functional-personal"
      },
      "outputs": [],
      "source": [
        "test3 = {\n",
        "    'input': {\n",
        "        'poly1': [1, 1, 1],\n",
        "        'poly2': [2, 7, 5]\n",
        "    },\n",
        "    'output': [2, 9, 14, 12, 5]\n",
        "}"
      ]
    },
    {
      "cell_type": "code",
      "execution_count": null,
      "id": "useful-alaska",
      "metadata": {
        "id": "useful-alaska"
      },
      "outputs": [],
      "source": [
        "test4 = {\n",
        "    'input': {\n",
        "        'poly1': [],\n",
        "        'poly2': [2, 7, 4]\n",
        "    },\n",
        "    'output': []\n",
        "}"
      ]
    },
    {
      "cell_type": "code",
      "execution_count": null,
      "id": "split-opportunity",
      "metadata": {
        "id": "split-opportunity"
      },
      "outputs": [],
      "source": [
        "test5 = {\n",
        "    'input': {\n",
        "        'poly1': [0, 1],\n",
        "        'poly2': [2, 6, -5, 3, 4]\n",
        "    },\n",
        "    'output': [0, 2, 6, -5, 3, 4]\n",
        "}"
      ]
    },
    {
      "cell_type": "code",
      "execution_count": null,
      "id": "promotional-donor",
      "metadata": {
        "id": "promotional-donor"
      },
      "outputs": [],
      "source": [
        "test6 = {\n",
        "    'input': {\n",
        "        'poly1': [1],\n",
        "        'poly2': [2, 6, 5, 3, 4]\n",
        "    },\n",
        "    'output': [2, 6, 5, 3, 4]\n",
        "}"
      ]
    },
    {
      "cell_type": "code",
      "execution_count": null,
      "id": "visible-object",
      "metadata": {
        "id": "visible-object"
      },
      "outputs": [],
      "source": [
        "test7 = {\n",
        "    'input': {\n",
        "        'poly1': [],\n",
        "        'poly2': [1]\n",
        "    },\n",
        "    'output': []\n",
        "}"
      ]
    },
    {
      "cell_type": "code",
      "execution_count": null,
      "id": "little-dating",
      "metadata": {
        "id": "little-dating"
      },
      "outputs": [],
      "source": [
        "test8 = {\n",
        "    'input': {\n",
        "        'poly1': [2, 5, 3, 1, -1],\n",
        "        'poly2': [1, 2, 2, 3, 6]\n",
        "    },\n",
        "    'output': [2, 9, 17, 23, 34, 39, 19, 3, -6]\n",
        "}"
      ]
    },
    {
      "cell_type": "markdown",
      "id": "extreme-membrane",
      "metadata": {
        "id": "extreme-membrane"
      },
      "source": [
        "Let's store all the test cases in a list, for easier automated testing."
      ]
    },
    {
      "cell_type": "code",
      "execution_count": null,
      "id": "emerging-request",
      "metadata": {
        "id": "emerging-request"
      },
      "outputs": [],
      "source": [
        "tests = [test0, test1, test2, test3, test4, test5, test6, test7, test8]"
      ]
    },
    {
      "cell_type": "code",
      "execution_count": null,
      "id": "connected-favor",
      "metadata": {
        "id": "connected-favor"
      },
      "outputs": [],
      "source": [
        "import jovian"
      ]
    },
    {
      "cell_type": "code",
      "execution_count": null,
      "id": "brave-bracelet",
      "metadata": {
        "colab": {
          "base_uri": "https://localhost:8080/"
        },
        "id": "brave-bracelet",
        "outputId": "5bdbeebd-aaa6-422b-9355-5d6ddb3b4c69"
      },
      "outputs": [
        {
          "name": "stdout",
          "output_type": "stream",
          "text": [
            "[jovian] Detected Colab notebook...\u001b[0m\n",
            "[jovian] jovian.commit() is no longer required on Google Colab. If you ran this notebook from Jovian, \n",
            "then just save this file in Colab using Ctrl+S/Cmd+S and it will be updated on Jovian. \n",
            "Also, you can also delete this cell, it's no longer necessary.\u001b[0m\n"
          ]
        }
      ],
      "source": [
        "jovian.commit()"
      ]
    },
    {
      "cell_type": "markdown",
      "id": "satellite-exclusion",
      "metadata": {
        "id": "satellite-exclusion"
      },
      "source": [
        "### 3. Come up with a correct solution for the problem. State it in plain English.\n",
        "\n",
        "Our first goal should always be to come up with a _correct_ solution to the problem, which may not necessarily be the most _efficient_ solution.\n",
        "\n",
        "Here's the simplest solution: If you have lists `poly1` and `poly2` representing polynomials of length $m$ and $n$ respectively, the highest degree of the exponents are $m-1$ and $n-1$ respectively. Their product has the degree $(m - 1) + (n - 1)$ i.e $m + n - 2$. The list representing the product has the length $m + n - 1$. So, we can create a list `result` of length $m + n - 1$, and set\n",
        "\n",
        "`result[k]` = Sum of all the pairs `poly1[i] * poly2[j]` where `i+j = k`\n",
        "\n",
        "Example:\n",
        "\n",
        "$(2 + 5x^2 + 7x^3) \\times (3 + 4x + 2x^2)$\n",
        "\n",
        "$= (2 \\times 3) + (2 \\times 4 + 0 \\times 3)x + (2 \\times 2 + 3 \\times 5 + 4 \\times 0)x^2 + (7 \\times 3 + 5 \\times 4 + 0 \\times 2)x^3 + (7 \\times 4 + 5 \\times 2)x^4 + (7 \\times 2)x^5$\n",
        "\n",
        "$= 6 + 8x + 19x^2 + 41x^3 + 38x^4 + 14x^5$\n",
        "\n",
        "\n",
        "\n",
        "\n",
        "\n",
        "\n",
        "Explain this solution in your own words below:\n",
        "\n",
        "1. Create an emply list (result) with len(poly1) + len(poly2) - 1.\n",
        "\n",
        "2. Set the first element result[0] to poly1[0]*poly2[0] as this would be the value with multiplier x^0.\n",
        "\n",
        "3. Second element result[1] would be poly1[1]×poly2[0] + poly1[0]×poly2[1], as these would have x^1 multiplier.\n",
        "\n",
        "4. Effectively, index could be read as the degree of the exponents and the value at the index as multiplier.\n",
        "\n",
        "5. i.e. result[k] = Sum of all the pairs poly1[i] * poly2[j] where i+j = k (add more steps if required)\n",
        "\n",
        "\n",
        "\n",
        "Let's save and upload our work before continuing.\n",
        "\n"
      ]
    },
    {
      "cell_type": "code",
      "execution_count": null,
      "id": "relevant-initial",
      "metadata": {
        "id": "relevant-initial"
      },
      "outputs": [],
      "source": [
        "import jovian"
      ]
    },
    {
      "cell_type": "code",
      "execution_count": null,
      "id": "fatty-rolling",
      "metadata": {
        "colab": {
          "base_uri": "https://localhost:8080/"
        },
        "id": "fatty-rolling",
        "outputId": "1499b1e8-a0ec-4522-fb71-f729af24072e"
      },
      "outputs": [
        {
          "name": "stdout",
          "output_type": "stream",
          "text": [
            "[jovian] Detected Colab notebook...\u001b[0m\n",
            "[jovian] jovian.commit() is no longer required on Google Colab. If you ran this notebook from Jovian, \n",
            "then just save this file in Colab using Ctrl+S/Cmd+S and it will be updated on Jovian. \n",
            "Also, you can also delete this cell, it's no longer necessary.\u001b[0m\n"
          ]
        }
      ],
      "source": [
        "jovian.commit()"
      ]
    },
    {
      "cell_type": "markdown",
      "id": "lucky-boxing",
      "metadata": {
        "id": "lucky-boxing"
      },
      "source": [
        "###  4. Implement the solution and test it using example inputs. Fix bugs, if any.\n",
        "\n",
        "Implement the solution"
      ]
    },
    {
      "cell_type": "code",
      "execution_count": null,
      "id": "grateful-chile",
      "metadata": {
        "id": "grateful-chile"
      },
      "outputs": [],
      "source": [
        "def multiply_basic(poly1, poly2):\n",
        "    m = len(poly1)\n",
        "    n = len(poly2)\n",
        "\n",
        "    if m > 0 and n > 0:\n",
        "      result = [0]*(m+n-1)\n",
        "      for i in range(m):\n",
        "        for j in range(n):\n",
        "          result[i+j] += poly1[i] * poly2[j]\n",
        "    elif m == 0 or n == 0:\n",
        "      result = []\n",
        "    elif n == 0:\n",
        "      result = []\n",
        "    return result"
      ]
    },
    {
      "cell_type": "markdown",
      "id": "casual-bicycle",
      "metadata": {
        "id": "casual-bicycle"
      },
      "source": [
        "Test your solution using the test cases you've defined above."
      ]
    },
    {
      "cell_type": "code",
      "execution_count": null,
      "id": "sunset-motor",
      "metadata": {
        "colab": {
          "base_uri": "https://localhost:8080/"
        },
        "id": "sunset-motor",
        "outputId": "d67860f0-2fc8-41bc-9542-5161996abea5"
      },
      "outputs": [
        {
          "name": "stdout",
          "output_type": "stream",
          "text": [
            "Input-1: [4, 6, 2, 8, 7]\n",
            "Input-2: [5, 9, 1, 4]\n",
            "Expected output: [20, 66, 68, 80, 133, 79, 39, 28]\n",
            "Actual output: [20, 66, 68, 80, 133, 79, 39, 28]\n",
            "Match: True\n"
          ]
        }
      ],
      "source": [
        "print('Input-1:', test1['input']['poly1'])\n",
        "print('Input-2:', test1['input']['poly2'])\n",
        "print('Expected output:', test1['output'])\n",
        "result1 = multiply_basic(test1['input']['poly1'], test1['input']['poly2'])\n",
        "print('Actual output:', result1)\n",
        "print('Match:', result1 == test1['output'])"
      ]
    },
    {
      "cell_type": "code",
      "execution_count": null,
      "id": "earned-sending",
      "metadata": {
        "id": "earned-sending"
      },
      "outputs": [],
      "source": [
        "from jovian.pythondsa import evaluate_test_cases"
      ]
    },
    {
      "cell_type": "code",
      "execution_count": null,
      "id": "neutral-conducting",
      "metadata": {
        "colab": {
          "base_uri": "https://localhost:8080/"
        },
        "id": "neutral-conducting",
        "outputId": "2b1ed187-e662-4427-c847-5e050a41d50c"
      },
      "outputs": [
        {
          "name": "stdout",
          "output_type": "stream",
          "text": [
            "\n",
            "\u001b[1mTEST CASE #0\u001b[0m\n",
            "\n",
            "Input:\n",
            "{'poly1': [2, 0, 5, 7], 'poly2': [3, 4, 2]}\n",
            "\n",
            "Expected Output:\n",
            "[6, 8, 19, 41, 38, 14]\n",
            "\n",
            "\n",
            "Actual Output:\n",
            "[6, 8, 19, 41, 38, 14]\n",
            "\n",
            "Execution Time:\n",
            "0.011 ms\n",
            "\n",
            "Test Result:\n",
            "\u001b[92mPASSED\u001b[0m\n",
            "\n",
            "\n",
            "\u001b[1mTEST CASE #1\u001b[0m\n",
            "\n",
            "Input:\n",
            "{'poly1': [4, 6, 2, 8, 7], 'poly2': [5, 9, 1, 4]}\n",
            "\n",
            "Expected Output:\n",
            "[20, 66, 68, 80, 133, 79, 39, 28]\n",
            "\n",
            "\n",
            "Actual Output:\n",
            "[20, 66, 68, 80, 133, 79, 39, 28]\n",
            "\n",
            "Execution Time:\n",
            "0.013 ms\n",
            "\n",
            "Test Result:\n",
            "\u001b[92mPASSED\u001b[0m\n",
            "\n",
            "\n",
            "\u001b[1mTEST CASE #2\u001b[0m\n",
            "\n",
            "Input:\n",
            "{'poly1': [2, 4], 'poly2': [2, 7, 5]}\n",
            "\n",
            "Expected Output:\n",
            "[4, 22, 38, 20]\n",
            "\n",
            "\n",
            "Actual Output:\n",
            "[4, 22, 38, 20]\n",
            "\n",
            "Execution Time:\n",
            "0.007 ms\n",
            "\n",
            "Test Result:\n",
            "\u001b[92mPASSED\u001b[0m\n",
            "\n",
            "\n",
            "\u001b[1mTEST CASE #3\u001b[0m\n",
            "\n",
            "Input:\n",
            "{'poly1': [1, 1, 1], 'poly2': [2, 7, 5]}\n",
            "\n",
            "Expected Output:\n",
            "[2, 9, 14, 12, 5]\n",
            "\n",
            "\n",
            "Actual Output:\n",
            "[2, 9, 14, 12, 5]\n",
            "\n",
            "Execution Time:\n",
            "0.009 ms\n",
            "\n",
            "Test Result:\n",
            "\u001b[92mPASSED\u001b[0m\n",
            "\n",
            "\n",
            "\u001b[1mTEST CASE #4\u001b[0m\n",
            "\n",
            "Input:\n",
            "{'poly1': [], 'poly2': [2, 7, 4]}\n",
            "\n",
            "Expected Output:\n",
            "[]\n",
            "\n",
            "\n",
            "Actual Output:\n",
            "[]\n",
            "\n",
            "Execution Time:\n",
            "0.004 ms\n",
            "\n",
            "Test Result:\n",
            "\u001b[92mPASSED\u001b[0m\n",
            "\n",
            "\n",
            "\u001b[1mTEST CASE #5\u001b[0m\n",
            "\n",
            "Input:\n",
            "{'poly1': [0, 1], 'poly2': [2, 6, -5, 3, 4]}\n",
            "\n",
            "Expected Output:\n",
            "[0, 2, 6, -5, 3, 4]\n",
            "\n",
            "\n",
            "Actual Output:\n",
            "[0, 2, 6, -5, 3, 4]\n",
            "\n",
            "Execution Time:\n",
            "0.009 ms\n",
            "\n",
            "Test Result:\n",
            "\u001b[92mPASSED\u001b[0m\n",
            "\n",
            "\n",
            "\u001b[1mTEST CASE #6\u001b[0m\n",
            "\n",
            "Input:\n",
            "{'poly1': [1], 'poly2': [2, 6, 5, 3, 4]}\n",
            "\n",
            "Expected Output:\n",
            "[2, 6, 5, 3, 4]\n",
            "\n",
            "\n",
            "Actual Output:\n",
            "[2, 6, 5, 3, 4]\n",
            "\n",
            "Execution Time:\n",
            "0.005 ms\n",
            "\n",
            "Test Result:\n",
            "\u001b[92mPASSED\u001b[0m\n",
            "\n",
            "\n",
            "\u001b[1mTEST CASE #7\u001b[0m\n",
            "\n",
            "Input:\n",
            "{'poly1': [], 'poly2': [1]}\n",
            "\n",
            "Expected Output:\n",
            "[]\n",
            "\n",
            "\n",
            "Actual Output:\n",
            "[]\n",
            "\n",
            "Execution Time:\n",
            "0.002 ms\n",
            "\n",
            "Test Result:\n",
            "\u001b[92mPASSED\u001b[0m\n",
            "\n",
            "\n",
            "\u001b[1mTEST CASE #8\u001b[0m\n",
            "\n",
            "Input:\n",
            "{'poly1': [2, 5, 3, 1, -1], 'poly2': [1, 2, 2, 3, 6]}\n",
            "\n",
            "Expected Output:\n",
            "[2, 9, 17, 23, 34, 39, 19, 3, -6]\n",
            "\n",
            "\n",
            "Actual Output:\n",
            "[2, 9, 17, 23, 34, 39, 19, 3, -6]\n",
            "\n",
            "Execution Time:\n",
            "0.011 ms\n",
            "\n",
            "Test Result:\n",
            "\u001b[92mPASSED\u001b[0m\n",
            "\n",
            "\n",
            "\u001b[1mSUMMARY\u001b[0m\n",
            "\n",
            "TOTAL: 9, \u001b[92mPASSED\u001b[0m: 9, \u001b[91mFAILED\u001b[0m: 0\n"
          ]
        }
      ],
      "source": [
        "results = evaluate_test_cases(multiply_basic, tests)"
      ]
    },
    {
      "cell_type": "code",
      "execution_count": null,
      "id": "lined-expense",
      "metadata": {
        "id": "lined-expense"
      },
      "outputs": [],
      "source": [
        "import jovian"
      ]
    },
    {
      "cell_type": "code",
      "execution_count": null,
      "id": "recreational-regulation",
      "metadata": {
        "colab": {
          "base_uri": "https://localhost:8080/"
        },
        "id": "recreational-regulation",
        "outputId": "233e092c-dfb5-4cbb-efb2-6034a3ec2967"
      },
      "outputs": [
        {
          "name": "stdout",
          "output_type": "stream",
          "text": [
            "[jovian] Detected Colab notebook...\u001b[0m\n",
            "[jovian] jovian.commit() is no longer required on Google Colab. If you ran this notebook from Jovian, \n",
            "then just save this file in Colab using Ctrl+S/Cmd+S and it will be updated on Jovian. \n",
            "Also, you can also delete this cell, it's no longer necessary.\u001b[0m\n"
          ]
        }
      ],
      "source": [
        "jovian.commit()"
      ]
    },
    {
      "cell_type": "markdown",
      "id": "associate-platform",
      "metadata": {
        "id": "associate-platform"
      },
      "source": [
        "### 5. Analyze the algorithm's complexity and identify inefficiencies, if any.\n",
        "\n",
        "Can you analyze the time and space complexity of this algorithm?"
      ]
    },
    {
      "cell_type": "code",
      "execution_count": null,
      "id": "aerial-motorcycle",
      "metadata": {
        "id": "aerial-motorcycle"
      },
      "outputs": [],
      "source": [
        "multiply_basic_time_complexity = 'O(n^2)'"
      ]
    },
    {
      "cell_type": "code",
      "execution_count": null,
      "id": "sustained-chicago",
      "metadata": {
        "id": "sustained-chicago"
      },
      "outputs": [],
      "source": [
        "multiply_basic_space_complexity = 'O(N*N)'"
      ]
    },
    {
      "cell_type": "code",
      "execution_count": null,
      "id": "accompanied-thailand",
      "metadata": {
        "id": "accompanied-thailand"
      },
      "outputs": [],
      "source": [
        "import jovian"
      ]
    },
    {
      "cell_type": "code",
      "execution_count": null,
      "id": "egyptian-stranger",
      "metadata": {
        "colab": {
          "base_uri": "https://localhost:8080/"
        },
        "id": "egyptian-stranger",
        "outputId": "f7c1bb4a-af77-42ef-80ba-5e3b6f746752"
      },
      "outputs": [
        {
          "name": "stdout",
          "output_type": "stream",
          "text": [
            "[jovian] Detected Colab notebook...\u001b[0m\n",
            "[jovian] jovian.commit() is no longer required on Google Colab. If you ran this notebook from Jovian, \n",
            "then just save this file in Colab using Ctrl+S/Cmd+S and it will be updated on Jovian. \n",
            "Also, you can also delete this cell, it's no longer necessary.\u001b[0m\n"
          ]
        }
      ],
      "source": [
        "jovian.commit()"
      ]
    },
    {
      "cell_type": "markdown",
      "id": "honey-desire",
      "metadata": {
        "id": "honey-desire"
      },
      "source": [
        "### 6. Apply the right technique to overcome the inefficiency. Repeat steps 3 to 6.\n",
        "\n",
        "We can apply the divide and conquer technique to solve this problem more efficiently. Given two polynomials `A` and `B`, we can express each of them as a sum of two polynomials as follows:\n",
        "\n",
        "<img src=\"https://i.imgur.com/FjKQF5h.png\" width=\"480\">\n",
        "\n",
        "We need to compute the terms `A0 * B0`, `A1 * B0 + A0 * B1` and `A1 * B1`. This can obviously be done using 4 multiplications, but here's a way of doing it with just three multiplications:\n",
        "\n",
        "<img src=\"https://i.imgur.com/G3vD1GX.png\" width=\"480\">\n",
        "\n",
        "\n",
        "Each of the products can themselves be computed recursively. For a more detailed explanation of this approach see http://www.cse.ust.hk/~dekai/271/notes/L03/L03.pdf .\n",
        "\n",
        "\n",
        "Need help? Discuss and ask questions on the forum: https://jovian.ai/forum/c/data-structures-and-algorithms-in-python/assignment-3/89\n"
      ]
    },
    {
      "cell_type": "markdown",
      "id": "parliamentary-spray",
      "metadata": {
        "id": "parliamentary-spray"
      },
      "source": [
        "### 7. Come up with a correct solution for the problem. State it in plain English.\n",
        "\n",
        "Explain the approach described above in your own words below:\n",
        "\n",
        "1. Divide the polynomials A & B in smaller polynomials Such as A(x) as A0(x)\n",
        "and A1(x)(say half).\n",
        "2. The original problem of size n is divided into 4 problems of input size n/2.\n",
        "3. Solve the four subproblems, by recursively calling the algorithm 4 times.\n",
        "\n",
        "\n",
        "Let's save and upload our work before continuing."
      ]
    },
    {
      "cell_type": "code",
      "execution_count": null,
      "id": "recreational-occurrence",
      "metadata": {
        "id": "recreational-occurrence"
      },
      "outputs": [],
      "source": [
        "import jovian"
      ]
    },
    {
      "cell_type": "code",
      "execution_count": null,
      "id": "flexible-snake",
      "metadata": {
        "colab": {
          "base_uri": "https://localhost:8080/"
        },
        "id": "flexible-snake",
        "outputId": "1003d97c-1763-4f5a-a751-7db3314df152"
      },
      "outputs": [
        {
          "name": "stdout",
          "output_type": "stream",
          "text": [
            "[jovian] Detected Colab notebook...\u001b[0m\n",
            "[jovian] jovian.commit() is no longer required on Google Colab. If you ran this notebook from Jovian, \n",
            "then just save this file in Colab using Ctrl+S/Cmd+S and it will be updated on Jovian. \n",
            "Also, you can also delete this cell, it's no longer necessary.\u001b[0m\n"
          ]
        }
      ],
      "source": [
        "jovian.commit()"
      ]
    },
    {
      "cell_type": "markdown",
      "id": "corresponding-gasoline",
      "metadata": {
        "id": "corresponding-gasoline"
      },
      "source": [
        "### 8. Implement the solution and test it using example inputs. Fix bugs, if any.\n",
        "\n",
        "We are now ready to implement the solution. You may find the following functions `add`, `split` and `increase_exponent` useful.\n"
      ]
    },
    {
      "cell_type": "code",
      "execution_count": null,
      "id": "planned-budapest",
      "metadata": {
        "id": "planned-budapest"
      },
      "outputs": [],
      "source": [
        "def add(poly1, poly2):\n",
        "    \"\"\"Add two polynomials\"\"\"\n",
        "    result = [0] * max(len(poly1), len(poly2))\n",
        "    for i in range(len(result)):\n",
        "        if i < len(poly1):\n",
        "            result[i] += poly1[i]\n",
        "        if i < len(poly2):\n",
        "            result[i] += poly2[i]\n",
        "    return result"
      ]
    },
    {
      "cell_type": "code",
      "execution_count": null,
      "id": "amazing-sympathy",
      "metadata": {
        "colab": {
          "base_uri": "https://localhost:8080/"
        },
        "id": "amazing-sympathy",
        "outputId": "76568117-196c-430b-e751-f276d5cb40ab"
      },
      "outputs": [
        {
          "data": {
            "text/plain": [
              "[1, 6, 6, 4]"
            ]
          },
          "execution_count": 35,
          "metadata": {},
          "output_type": "execute_result"
        }
      ],
      "source": [
        "add([1, 2, 3, 4], [0, 4, 3])"
      ]
    },
    {
      "cell_type": "code",
      "execution_count": null,
      "id": "objective-stone",
      "metadata": {
        "id": "objective-stone"
      },
      "outputs": [],
      "source": [
        "def split(poly1, poly2):\n",
        "    \"\"\"Split each polynomial into two smaller polynomials\"\"\"\n",
        "    mid = max(len(poly1), len(poly2)) // 2\n",
        "    return  (poly1[:mid], poly1[mid:]), (poly2[:mid], poly2[mid:])"
      ]
    },
    {
      "cell_type": "code",
      "execution_count": null,
      "id": "saving-folder",
      "metadata": {
        "colab": {
          "base_uri": "https://localhost:8080/"
        },
        "id": "saving-folder",
        "outputId": "3a7e51cf-5f68-4ba9-f692-9cb12ba0ca00"
      },
      "outputs": [
        {
          "data": {
            "text/plain": [
              "(([1, 2, 3], [4]), ([0, 4, 3], [6, 7, 8, 2]))"
            ]
          },
          "execution_count": 37,
          "metadata": {},
          "output_type": "execute_result"
        }
      ],
      "source": [
        "split([1, 2, 3, 4], [0, 4, 3, 6, 7, 8, 2])"
      ]
    },
    {
      "cell_type": "code",
      "execution_count": null,
      "id": "ethical-bradford",
      "metadata": {
        "id": "ethical-bradford"
      },
      "outputs": [],
      "source": [
        "def increase_exponent(poly, n):\n",
        "    \"\"\"Multiply poly1 by x^n\"\"\"\n",
        "    return [0] * n + poly"
      ]
    },
    {
      "cell_type": "code",
      "execution_count": null,
      "id": "saving-arrangement",
      "metadata": {
        "colab": {
          "base_uri": "https://localhost:8080/"
        },
        "id": "saving-arrangement",
        "outputId": "f0165847-c52c-448e-b677-bf196729fc03"
      },
      "outputs": [
        {
          "data": {
            "text/plain": [
              "[0, 0, 0, 1, 2, 3, 4]"
            ]
          },
          "execution_count": 39,
          "metadata": {},
          "output_type": "execute_result"
        }
      ],
      "source": [
        "increase_exponent([1, 2, 3, 4], 3)"
      ]
    },
    {
      "cell_type": "markdown",
      "id": "under-effectiveness",
      "metadata": {
        "id": "under-effectiveness"
      },
      "source": [
        "Implement the optimized multiplication algorithm below. You may use the some or all of the helper functions defined above."
      ]
    },
    {
      "cell_type": "code",
      "execution_count": null,
      "id": "starting-characterization",
      "metadata": {
        "id": "starting-characterization"
      },
      "outputs": [],
      "source": [
        "def standardize(poly):\n",
        "    poly = list(poly)\n",
        "    if poly[len(poly)-1] == 0:\n",
        "        poly.pop()\n",
        "    return poly\n",
        "\n",
        "def isZeroPoly(poly):\n",
        "    if poly == []:\n",
        "        return True\n",
        "    else:\n",
        "        return False\n",
        "\n",
        "def scalePoly(scale,poly):\n",
        "    poly = list(poly)\n",
        "    for x in range(0,len(poly)):\n",
        "        poly[x] = (poly[x] * scale)\n",
        "    poly = standardize(poly)\n",
        "    return poly\n",
        "\n",
        "def constCoef(poly):\n",
        "    constant = poly[0]\n",
        "    return constant\n",
        "\n",
        "def shiftLeft(poly):\n",
        "    newpoly = []\n",
        "    newpoly.append(0)\n",
        "    for x in range(0,len(poly)):\n",
        "        newpoly.append(poly[x])\n",
        "    return newpoly\n",
        "\n",
        "def shiftRight(poly):\n",
        "    return poly[1:]\n",
        "\n",
        "def multiply_optimized(poly1, poly2):\n",
        "    if isZeroPoly(poly1):\n",
        "        return []\n",
        "    else:\n",
        "        return add(\n",
        "            multiply_optimized(shiftRight(poly1), shiftLeft(poly2)),\n",
        "            scalePoly(constCoef(poly1), poly2)\n",
        "        )"
      ]
    },
    {
      "cell_type": "code",
      "execution_count": null,
      "id": "delayed-terrace",
      "metadata": {
        "colab": {
          "base_uri": "https://localhost:8080/"
        },
        "id": "delayed-terrace",
        "outputId": "46ef67a5-352e-4bce-d64a-d6b6bf8925e9"
      },
      "outputs": [
        {
          "data": {
            "text/plain": [
              "[0, 4, 11, 24, 44, 52, 63, 56, 38, 8]"
            ]
          },
          "execution_count": 41,
          "metadata": {},
          "output_type": "execute_result"
        }
      ],
      "source": [
        "multiply_optimized([1, 2, 3, 4], [0, 4, 3, 6, 7, 8, 2])"
      ]
    },
    {
      "cell_type": "markdown",
      "id": "novel-scout",
      "metadata": {
        "id": "novel-scout"
      },
      "source": [
        "Test your solution using the empty cells below."
      ]
    },
    {
      "cell_type": "code",
      "execution_count": null,
      "id": "operating-ecology",
      "metadata": {
        "colab": {
          "base_uri": "https://localhost:8080/"
        },
        "id": "operating-ecology",
        "outputId": "2acce0f9-3d52-4c63-a604-5549a0a34585"
      },
      "outputs": [
        {
          "name": "stdout",
          "output_type": "stream",
          "text": [
            "\n",
            "\u001b[1mTEST CASE #0\u001b[0m\n",
            "\n",
            "Input:\n",
            "{'poly1': [2, 0, 5, 7], 'poly2': [3, 4, 2]}\n",
            "\n",
            "Expected Output:\n",
            "[6, 8, 19, 41, 38, 14]\n",
            "\n",
            "\n",
            "Actual Output:\n",
            "[6, 8, 19, 41, 38, 14]\n",
            "\n",
            "Execution Time:\n",
            "0.057 ms\n",
            "\n",
            "Test Result:\n",
            "\u001b[92mPASSED\u001b[0m\n",
            "\n",
            "\n",
            "\u001b[1mTEST CASE #1\u001b[0m\n",
            "\n",
            "Input:\n",
            "{'poly1': [4, 6, 2, 8, 7], 'poly2': [5, 9, 1, 4]}\n",
            "\n",
            "Expected Output:\n",
            "[20, 66, 68, 80, 133, 79, 39, 28]\n",
            "\n",
            "\n",
            "Actual Output:\n",
            "[20, 66, 68, 80, 133, 79, 39, 28]\n",
            "\n",
            "Execution Time:\n",
            "0.067 ms\n",
            "\n",
            "Test Result:\n",
            "\u001b[92mPASSED\u001b[0m\n",
            "\n",
            "\n",
            "\u001b[1mTEST CASE #2\u001b[0m\n",
            "\n",
            "Input:\n",
            "{'poly1': [2, 4], 'poly2': [2, 7, 5]}\n",
            "\n",
            "Expected Output:\n",
            "[4, 22, 38, 20]\n",
            "\n",
            "\n",
            "Actual Output:\n",
            "[4, 22, 38, 20]\n",
            "\n",
            "Execution Time:\n",
            "0.035 ms\n",
            "\n",
            "Test Result:\n",
            "\u001b[92mPASSED\u001b[0m\n",
            "\n",
            "\n",
            "\u001b[1mTEST CASE #3\u001b[0m\n",
            "\n",
            "Input:\n",
            "{'poly1': [1, 1, 1], 'poly2': [2, 7, 5]}\n",
            "\n",
            "Expected Output:\n",
            "[2, 9, 14, 12, 5]\n",
            "\n",
            "\n",
            "Actual Output:\n",
            "[2, 9, 14, 12, 5]\n",
            "\n",
            "Execution Time:\n",
            "0.036 ms\n",
            "\n",
            "Test Result:\n",
            "\u001b[92mPASSED\u001b[0m\n",
            "\n",
            "\n",
            "\u001b[1mTEST CASE #4\u001b[0m\n",
            "\n",
            "Input:\n",
            "{'poly1': [], 'poly2': [2, 7, 4]}\n",
            "\n",
            "Expected Output:\n",
            "[]\n",
            "\n",
            "\n",
            "Actual Output:\n",
            "[]\n",
            "\n",
            "Execution Time:\n",
            "0.004 ms\n",
            "\n",
            "Test Result:\n",
            "\u001b[92mPASSED\u001b[0m\n",
            "\n",
            "\n",
            "\u001b[1mTEST CASE #5\u001b[0m\n",
            "\n",
            "Input:\n",
            "{'poly1': [0, 1], 'poly2': [2, 6, -5, 3, 4]}\n",
            "\n",
            "Expected Output:\n",
            "[0, 2, 6, -5, 3, 4]\n",
            "\n",
            "\n",
            "Actual Output:\n",
            "[0, 2, 6, -5, 3, 4]\n",
            "\n",
            "Execution Time:\n",
            "0.032 ms\n",
            "\n",
            "Test Result:\n",
            "\u001b[92mPASSED\u001b[0m\n",
            "\n",
            "\n",
            "\u001b[1mTEST CASE #6\u001b[0m\n",
            "\n",
            "Input:\n",
            "{'poly1': [1], 'poly2': [2, 6, 5, 3, 4]}\n",
            "\n",
            "Expected Output:\n",
            "[2, 6, 5, 3, 4]\n",
            "\n",
            "\n",
            "Actual Output:\n",
            "[2, 6, 5, 3, 4]\n",
            "\n",
            "Execution Time:\n",
            "0.013 ms\n",
            "\n",
            "Test Result:\n",
            "\u001b[92mPASSED\u001b[0m\n",
            "\n",
            "\n",
            "\u001b[1mTEST CASE #7\u001b[0m\n",
            "\n",
            "Input:\n",
            "{'poly1': [], 'poly2': [1]}\n",
            "\n",
            "Expected Output:\n",
            "[]\n",
            "\n",
            "\n",
            "Actual Output:\n",
            "[]\n",
            "\n",
            "Execution Time:\n",
            "0.002 ms\n",
            "\n",
            "Test Result:\n",
            "\u001b[92mPASSED\u001b[0m\n",
            "\n",
            "\n",
            "\u001b[1mTEST CASE #8\u001b[0m\n",
            "\n",
            "Input:\n",
            "{'poly1': [2, 5, 3, 1, -1], 'poly2': [1, 2, 2, 3, 6]}\n",
            "\n",
            "Expected Output:\n",
            "[2, 9, 17, 23, 34, 39, 19, 3, -6]\n",
            "\n",
            "\n",
            "Actual Output:\n",
            "[2, 9, 17, 23, 34, 39, 19, 3, -6]\n",
            "\n",
            "Execution Time:\n",
            "0.063 ms\n",
            "\n",
            "Test Result:\n",
            "\u001b[92mPASSED\u001b[0m\n",
            "\n",
            "\n",
            "\u001b[1mSUMMARY\u001b[0m\n",
            "\n",
            "TOTAL: 9, \u001b[92mPASSED\u001b[0m: 9, \u001b[91mFAILED\u001b[0m: 0\n"
          ]
        }
      ],
      "source": [
        "results = evaluate_test_cases(multiply_optimized, tests)"
      ]
    },
    {
      "cell_type": "code",
      "execution_count": null,
      "id": "stable-korea",
      "metadata": {
        "id": "stable-korea"
      },
      "outputs": [],
      "source": [
        "import jovian"
      ]
    },
    {
      "cell_type": "code",
      "execution_count": null,
      "id": "nominated-thousand",
      "metadata": {
        "colab": {
          "base_uri": "https://localhost:8080/"
        },
        "id": "nominated-thousand",
        "outputId": "758691f4-f6b2-47da-bdca-742f42439905"
      },
      "outputs": [
        {
          "name": "stdout",
          "output_type": "stream",
          "text": [
            "[jovian] Detected Colab notebook...\u001b[0m\n",
            "[jovian] jovian.commit() is no longer required on Google Colab. If you ran this notebook from Jovian, \n",
            "then just save this file in Colab using Ctrl+S/Cmd+S and it will be updated on Jovian. \n",
            "Also, you can also delete this cell, it's no longer necessary.\u001b[0m\n"
          ]
        }
      ],
      "source": [
        "jovian.commit()"
      ]
    },
    {
      "cell_type": "markdown",
      "id": "documented-leisure",
      "metadata": {
        "id": "documented-leisure"
      },
      "source": [
        "## Make a Submission\n",
        "\n",
        "Congrats! You have now implemented hash tables from scratch. The rest of this assignment is optional.\n",
        "\n",
        "You can make a submission on this page: https://jovian.ai/learn/data-structures-and-algorithms-in-python/assignment/assignment-3-sorting-and-divide-conquer-practice\n",
        "\n",
        "Submit the link to your Jovian notebook (the output of the previous cell).\n",
        "You can also make a direct submission by executing the following cell:"
      ]
    },
    {
      "cell_type": "code",
      "execution_count": null,
      "id": "superior-windows",
      "metadata": {
        "colab": {
          "base_uri": "https://localhost:8080/"
        },
        "id": "superior-windows",
        "outputId": "99974b63-10e9-4646-fff9-d931b6644712"
      },
      "outputs": [
        {
          "name": "stdout",
          "output_type": "stream",
          "text": [
            "[jovian] Detected Colab notebook...\u001b[0m\n",
            "[jovian] jovian.commit() is no longer required on Google Colab. If you ran this notebook from Jovian, \n",
            "then just save this file in Colab using Ctrl+S/Cmd+S and it will be updated on Jovian. \n",
            "Also, you can also delete this cell, it's no longer necessary.\u001b[0m\n"
          ]
        }
      ],
      "source": [
        "jovian.submit(assignment=\"pythondsa-assignment3\")"
      ]
    },
    {
      "cell_type": "markdown",
      "id": "early-norfolk",
      "metadata": {
        "id": "early-norfolk"
      },
      "source": [
        "### (Optional) 9. Analyze the algorithm's complexity and identify inefficiencies, if any.\n",
        "\n",
        "Can you analyze the time and space complexity of this algorithm?\n",
        "\n",
        "Hint: See the tree of subproblems below ([source](https://myithelpcentral.blogspot.com/2015/09/o-logn-notation-explanation-for-binary.html)). Substitute the right values for `n` and `b` to determine the time complexity.\n",
        "\n",
        "![](https://i.imgur.com/JAmZrE5.png)"
      ]
    },
    {
      "cell_type": "code",
      "execution_count": null,
      "id": "controlling-merchandise",
      "metadata": {
        "id": "controlling-merchandise"
      },
      "outputs": [],
      "source": [
        "import jovian"
      ]
    },
    {
      "cell_type": "code",
      "execution_count": null,
      "id": "ranging-testing",
      "metadata": {
        "colab": {
          "base_uri": "https://localhost:8080/"
        },
        "id": "ranging-testing",
        "outputId": "ce153d0c-e4b4-457a-c396-7a89c5f911e4"
      },
      "outputs": [
        {
          "name": "stdout",
          "output_type": "stream",
          "text": [
            "[jovian] Detected Colab notebook...\u001b[0m\n",
            "[jovian] jovian.commit() is no longer required on Google Colab. If you ran this notebook from Jovian, \n",
            "then just save this file in Colab using Ctrl+S/Cmd+S and it will be updated on Jovian. \n",
            "Also, you can also delete this cell, it's no longer necessary.\u001b[0m\n"
          ]
        }
      ],
      "source": [
        "jovian.commit()"
      ]
    }
  ],
  "metadata": {
    "colab": {
      "provenance": [],
      "include_colab_link": true
    },
    "kernelspec": {
      "display_name": "Python 3",
      "language": "python",
      "name": "python3"
    },
    "language_info": {
      "codemirror_mode": {
        "name": "ipython",
        "version": 3
      },
      "file_extension": ".py",
      "mimetype": "text/x-python",
      "name": "python",
      "nbconvert_exporter": "python",
      "pygments_lexer": "ipython3",
      "version": "3.6.12"
    }
  },
  "nbformat": 4,
  "nbformat_minor": 5
}