{
  "cells": [
    {
      "cell_type": "markdown",
      "metadata": {
        "id": "view-in-github",
        "colab_type": "text"
      },
      "source": [
        "<a href=\"https://colab.research.google.com/github/bhuvansun/data-structures-and-algorithms-in-python/blob/main/python_hash_tables_assignment.ipynb\" target=\"_parent\"><img src=\"https://colab.research.google.com/assets/colab-badge.svg\" alt=\"Open In Colab\"/></a>"
      ]
    },
    {
      "cell_type": "markdown",
      "id": "tough-steps",
      "metadata": {
        "id": "tough-steps"
      },
      "source": [
        "# Assignment 2 - Hash Tables in Python\n",
        "\n",
        "_This assignment is a part of the course [\"Data Structures and Algorithms in Python\"](https://jovian.ai/learn/data-structures-and-algorithms-in-python)._\n",
        "\n",
        "In this assignment, you will implement Python dictionaries from scratch using hash tables.\n",
        "\n",
        "As you go through this notebook, you will find the symbol **???** in certain places. To complete this assignment, you must replace all the **???** with appropriate values, expressions or statements to ensure that the notebook runs properly end-to-end.\n",
        "\n",
        "**Guidelines**\n",
        "\n",
        "1. Make sure to run all the code cells, otherwise you may get errors like `NameError` for undefined variables.\n",
        "2. Do not change variable names, delete cells or disturb other existing code. It may cause problems during evaluation.\n",
        "3. In some cases, you may need to add some code cells or new statements before or after the line of code containing the **???**.\n",
        "4. Since you'll be using a temporary online service for code execution, save your work by running `jovian.commit` at regular intervals.\n",
        "5. Questions marked **(Optional)** will not be considered for evaluation, and can be skipped. They are for your learning.\n",
        "6. If you are stuck, you can ask for help on the [community forum](https://jovian.ai/forum/c/data-structures-and-algorithms-in-python/assignment-2/88). Post errors or ask for hints, but **please don't ask for OR share the full working answer code** on the forum.\n",
        "7. There are some tests included with this notebook to help you test your implementation. However, after submission your code will be tested with some hidden test cases. Make sure to test your code exhaustively to cover all edge cases.\n",
        "\n",
        "\n",
        "**Important Links**\n",
        "\n",
        "* Submit your work here: https://jovian.ai/learn/data-structures-and-algorithms-in-python/assignment/assignment-2-hash-table-and-python-dictionaries\n",
        "* Ask questions and get help: https://jovian.ai/forum/c/data-structures-and-algorithms-in-python/assignment-2/88\n",
        "* Lesson 2 video for review: https://jovian.ai/aakashns/python-binary-search-trees\n",
        "* Lesson 2 notebook for review: https://jovian.ai/aakashns/python-binary-search-trees\n",
        "\n",
        "\n",
        "\n"
      ]
    },
    {
      "cell_type": "markdown",
      "id": "prescription-quest",
      "metadata": {
        "id": "prescription-quest"
      },
      "source": [
        "### How to Run the Code and Save Your Work\n",
        "\n",
        "**Option 1: Running using free online resources (1-click, recommended)**: Click the **Run** button at the top of this page and select **Run on Binder**. You can also select \"Run on Colab\" or \"Run on Kaggle\", but you'll need to create an account on [Google Colab](https://colab.research.google.com) or [Kaggle](https://kaggle.com) to use these platforms.\n",
        "\n",
        "\n",
        "**Option 2: Running on your computer locally**: To run the code on your computer locally, you'll need to set up [Python](https://www.python.org) & [Conda](https://docs.conda.io/projects/conda/en/latest/user-guide/install/), download the notebook and install the required libraries. Click the **Run** button at the top of this page, select the **Run Locally** option, and follow the instructions.\n",
        "\n",
        "**Saving your work**: You can save a snapshot of the assignment to your [Jovian](https://jovian.ai) profile, so that you can access it later and continue your work. Keep saving your work by running `jovian.commit` from time to time."
      ]
    },
    {
      "cell_type": "code",
      "execution_count": null,
      "id": "hollow-power",
      "metadata": {
        "id": "hollow-power"
      },
      "outputs": [],
      "source": [
        "project='python-hash-tables-assignment'"
      ]
    },
    {
      "cell_type": "code",
      "execution_count": null,
      "id": "special-mauritius",
      "metadata": {
        "colab": {
          "base_uri": "https://localhost:8080/"
        },
        "id": "special-mauritius",
        "outputId": "59b70432-ddff-4c3d-be9d-c8e51db5aab3"
      },
      "outputs": [
        {
          "name": "stdout",
          "output_type": "stream",
          "text": [
            "\u001b[?25l     \u001b[90m━━━━━━━━━━━━━━━━━━━━━━━━━━━━━━━━━━━━━━━━\u001b[0m \u001b[32m0.0/68.6 kB\u001b[0m \u001b[31m?\u001b[0m eta \u001b[36m-:--:--\u001b[0m\r",
            "\u001b[2K     \u001b[90m━━━━━━━━━━━━━━━━━━━━━━━━━━━━━━━━━━━━━━━━\u001b[0m \u001b[32m68.6/68.6 kB\u001b[0m \u001b[31m4.0 MB/s\u001b[0m eta \u001b[36m0:00:00\u001b[0m\n",
            "\u001b[?25h  Preparing metadata (setup.py) ... \u001b[?25l\u001b[?25hdone\n",
            "  Building wheel for uuid (setup.py) ... \u001b[?25l\u001b[?25hdone\n"
          ]
        }
      ],
      "source": [
        "!pip install jovian --upgrade --quiet"
      ]
    },
    {
      "cell_type": "code",
      "execution_count": null,
      "id": "extra-questionnaire",
      "metadata": {
        "colab": {
          "base_uri": "https://localhost:8080/"
        },
        "id": "extra-questionnaire",
        "outputId": "4d38312d-c4f8-429a-adfe-93db83e713b7"
      },
      "outputs": [
        {
          "name": "stdout",
          "output_type": "stream",
          "text": [
            "[jovian] Detected Colab notebook...\u001b[0m\n",
            "[jovian] jovian.commit() is no longer required on Google Colab. If you ran this notebook from Jovian, \n",
            "then just save this file in Colab using Ctrl+S/Cmd+S and it will be updated on Jovian. \n",
            "Also, you can also delete this cell, it's no longer necessary.\u001b[0m\n"
          ]
        }
      ],
      "source": [
        "import jovian\n",
        "jovian.commit(project=project, privacy='secret', environment=None)"
      ]
    },
    {
      "cell_type": "markdown",
      "id": "average-jaguar",
      "metadata": {
        "id": "average-jaguar"
      },
      "source": [
        "## Problem Statement - Python Dictionaries and Hash Tables\n",
        "\n",
        "In this assignment, you will recreate Python dictionaries from scratch using data structure called *hash table*. Dictionaries in Python are used to store key-value pairs. Keys are used to store and retrieve values. For example, here's a dictionary for storing and retrieving phone numbers using people's names."
      ]
    },
    {
      "cell_type": "code",
      "execution_count": null,
      "id": "concerned-array",
      "metadata": {
        "colab": {
          "base_uri": "https://localhost:8080/"
        },
        "id": "concerned-array",
        "outputId": "ed389603-fa6a-4804-d4a2-4c71f8197e87"
      },
      "outputs": [
        {
          "data": {
            "text/plain": [
              "{'Aakash': '9489484949', 'Hemanth': '9595949494', 'Siddhant': '9231325312'}"
            ]
          },
          "execution_count": 4,
          "metadata": {},
          "output_type": "execute_result"
        }
      ],
      "source": [
        "phone_numbers = {\n",
        "  'Aakash' : '9489484949',\n",
        "  'Hemanth' : '9595949494',\n",
        "  'Siddhant' : '9231325312'\n",
        "}\n",
        "phone_numbers"
      ]
    },
    {
      "cell_type": "markdown",
      "id": "applicable-winter",
      "metadata": {
        "id": "applicable-winter"
      },
      "source": [
        "You can access a person's phone number using their name as follows:"
      ]
    },
    {
      "cell_type": "code",
      "execution_count": null,
      "id": "worldwide-opposition",
      "metadata": {
        "colab": {
          "base_uri": "https://localhost:8080/",
          "height": 36
        },
        "id": "worldwide-opposition",
        "outputId": "be31efb2-5366-4238-b49f-7bb07db5ddec"
      },
      "outputs": [
        {
          "data": {
            "application/vnd.google.colaboratory.intrinsic+json": {
              "type": "string"
            },
            "text/plain": [
              "'9489484949'"
            ]
          },
          "execution_count": 5,
          "metadata": {},
          "output_type": "execute_result"
        }
      ],
      "source": [
        "phone_numbers['Aakash']"
      ]
    },
    {
      "cell_type": "markdown",
      "id": "moral-optimum",
      "metadata": {
        "id": "moral-optimum"
      },
      "source": [
        "You can store new phone numbers, or update existing ones as follows:"
      ]
    },
    {
      "cell_type": "code",
      "execution_count": null,
      "id": "occupied-absolute",
      "metadata": {
        "colab": {
          "base_uri": "https://localhost:8080/"
        },
        "id": "occupied-absolute",
        "outputId": "3c7f48d5-52a4-4b80-b9bf-7cbcb7a357cb"
      },
      "outputs": [
        {
          "data": {
            "text/plain": [
              "{'Aakash': '7878787878',\n",
              " 'Hemanth': '9595949494',\n",
              " 'Siddhant': '9231325312',\n",
              " 'Vishal': '8787878787'}"
            ]
          },
          "execution_count": 6,
          "metadata": {},
          "output_type": "execute_result"
        }
      ],
      "source": [
        "# Add a new value\n",
        "phone_numbers['Vishal'] = '8787878787'\n",
        "# Update existing value\n",
        "phone_numbers['Aakash'] = '7878787878'\n",
        "# View the updated dictionary\n",
        "phone_numbers"
      ]
    },
    {
      "cell_type": "markdown",
      "id": "attached-architect",
      "metadata": {
        "id": "attached-architect"
      },
      "source": [
        "You can also view all the names and phone numbers stored in `phone_numbers` using a `for` loop."
      ]
    },
    {
      "cell_type": "code",
      "execution_count": null,
      "id": "worst-atmosphere",
      "metadata": {
        "colab": {
          "base_uri": "https://localhost:8080/"
        },
        "id": "worst-atmosphere",
        "outputId": "b64df8cf-89c4-4f0e-fb8b-998a16ee7b85"
      },
      "outputs": [
        {
          "name": "stdout",
          "output_type": "stream",
          "text": [
            "Name: Aakash , Phone Number: 7878787878\n",
            "Name: Hemanth , Phone Number: 9595949494\n",
            "Name: Siddhant , Phone Number: 9231325312\n",
            "Name: Vishal , Phone Number: 8787878787\n"
          ]
        }
      ],
      "source": [
        "for name in phone_numbers:\n",
        "    print('Name:', name, ', Phone Number:', phone_numbers[name])"
      ]
    },
    {
      "cell_type": "markdown",
      "id": "motivated-toolbox",
      "metadata": {
        "id": "motivated-toolbox"
      },
      "source": [
        "Dictionaries in Python are implemented using a data structure called **hash table**. A hash table uses a list/array to store the key-value pairs, and uses a _hashing function_ to determine the index for storing or retrieving the data associated with a given key.\n",
        "\n",
        "Here's a visual representation of a hash table ([source](https://en.wikipedia.org/wiki/Hash_table)):\n",
        "\n",
        "<img src=\"https://i.imgur.com/5dPEmuY.png\" width=\"480\">\n",
        "\n",
        "Your objective in this assignment is to implement a `HashTable` class which supports the following operations:\n",
        "\n",
        "1. **Insert**: Insert a new key-value pair\n",
        "2. **Find**: Find the value associated with a key\n",
        "3. **Update**: Update the value associated with a key\n",
        "5. **List**: List all the keys stored in the hash table\n",
        "\n",
        "The `HashTable` class will have the following structure (note the function signatures):"
      ]
    },
    {
      "cell_type": "code",
      "execution_count": null,
      "id": "amino-princess",
      "metadata": {
        "id": "amino-princess"
      },
      "outputs": [],
      "source": [
        "class HashTable:\n",
        "    def insert(self, key, value):\n",
        "        \"\"\"Insert a new key-value pair\"\"\"\n",
        "        pass\n",
        "\n",
        "    def find(self, key):\n",
        "        \"\"\"Find the value associated with a key\"\"\"\n",
        "        pass\n",
        "\n",
        "    def update(self, key, value):\n",
        "        \"\"\"Change the value associated with a key\"\"\"\n",
        "        pass\n",
        "\n",
        "    def list_all(self):\n",
        "        \"\"\"List all the keys\"\"\"\n",
        "        pass"
      ]
    },
    {
      "cell_type": "markdown",
      "id": "biblical-contractor",
      "metadata": {
        "id": "biblical-contractor"
      },
      "source": [
        "Before we begin our implementation, let's save and commit our work."
      ]
    },
    {
      "cell_type": "code",
      "execution_count": null,
      "id": "through-volume",
      "metadata": {
        "colab": {
          "base_uri": "https://localhost:8080/"
        },
        "id": "through-volume",
        "outputId": "3c7e07cc-9e72-4921-f085-f34bd432ea82"
      },
      "outputs": [
        {
          "name": "stdout",
          "output_type": "stream",
          "text": [
            "[jovian] Detected Colab notebook...\u001b[0m\n",
            "[jovian] jovian.commit() is no longer required on Google Colab. If you ran this notebook from Jovian, \n",
            "then just save this file in Colab using Ctrl+S/Cmd+S and it will be updated on Jovian. \n",
            "Also, you can also delete this cell, it's no longer necessary.\u001b[0m\n"
          ]
        }
      ],
      "source": [
        "jovian.commit(project=project)"
      ]
    },
    {
      "cell_type": "markdown",
      "id": "acute-healthcare",
      "metadata": {
        "id": "acute-healthcare"
      },
      "source": [
        "### Data List\n",
        "\n",
        "We'll build the `HashTable` class step-by-step. As a first step is to create a Python list which will hold all the key-value pairs. We'll start by creating a list of a fixed size.\n",
        "\n"
      ]
    },
    {
      "cell_type": "code",
      "execution_count": null,
      "id": "indian-potential",
      "metadata": {
        "id": "indian-potential"
      },
      "outputs": [],
      "source": [
        "MAX_HASH_TABLE_SIZE = 4096"
      ]
    },
    {
      "cell_type": "markdown",
      "id": "upset-bullet",
      "metadata": {
        "id": "upset-bullet"
      },
      "source": [
        "**QUESTION 1: Create a Python list of size `MAX_HASH_TABLE_SIZE`, with all the values set to `None`.**\n",
        "\n",
        "_Hint_: Use the [`*` operator](https://stackoverflow.com/questions/3459098/create-list-of-single-item-repeated-n-times)."
      ]
    },
    {
      "cell_type": "code",
      "execution_count": null,
      "id": "expected-responsibility",
      "metadata": {
        "id": "expected-responsibility"
      },
      "outputs": [],
      "source": [
        "# List of size MAX_HASH_TABLE_SIZE with all values None\n",
        "data_list = [None] * 4096"
      ]
    },
    {
      "cell_type": "markdown",
      "id": "patient-complexity",
      "metadata": {
        "id": "patient-complexity"
      },
      "source": [
        "If the list was created successfully, the following cells should output `True`."
      ]
    },
    {
      "cell_type": "code",
      "execution_count": null,
      "id": "cross-certification",
      "metadata": {
        "colab": {
          "base_uri": "https://localhost:8080/"
        },
        "id": "cross-certification",
        "outputId": "61bffcc0-c598-4b50-df47-07f8e9d26d8a"
      },
      "outputs": [
        {
          "data": {
            "text/plain": [
              "True"
            ]
          },
          "execution_count": 12,
          "metadata": {},
          "output_type": "execute_result"
        }
      ],
      "source": [
        "len(data_list) == 4096"
      ]
    },
    {
      "cell_type": "code",
      "execution_count": null,
      "id": "controlled-ideal",
      "metadata": {
        "colab": {
          "base_uri": "https://localhost:8080/"
        },
        "id": "controlled-ideal",
        "outputId": "033ee1f7-3cf1-427b-a77c-fad2c79cdd79"
      },
      "outputs": [
        {
          "data": {
            "text/plain": [
              "True"
            ]
          },
          "execution_count": 13,
          "metadata": {},
          "output_type": "execute_result"
        }
      ],
      "source": [
        "data_list[99] == None"
      ]
    },
    {
      "cell_type": "markdown",
      "id": "juvenile-canal",
      "metadata": {
        "id": "juvenile-canal"
      },
      "source": [
        "Let's save our work before continuing."
      ]
    },
    {
      "cell_type": "code",
      "execution_count": null,
      "id": "celtic-mistake",
      "metadata": {
        "colab": {
          "base_uri": "https://localhost:8080/"
        },
        "id": "celtic-mistake",
        "outputId": "4899fcb9-8810-47e0-9087-cb26e7478a23"
      },
      "outputs": [
        {
          "name": "stdout",
          "output_type": "stream",
          "text": [
            "[jovian] Detected Colab notebook...\u001b[0m\n",
            "[jovian] jovian.commit() is no longer required on Google Colab. If you ran this notebook from Jovian, \n",
            "then just save this file in Colab using Ctrl+S/Cmd+S and it will be updated on Jovian. \n",
            "Also, you can also delete this cell, it's no longer necessary.\u001b[0m\n"
          ]
        }
      ],
      "source": [
        "jovian.commit(project=project)"
      ]
    },
    {
      "cell_type": "markdown",
      "id": "radio-wisconsin",
      "metadata": {
        "id": "radio-wisconsin"
      },
      "source": [
        "### Hashing Function\n",
        "\n",
        "A _hashing function_ is used to convert strings and other non-numeric data types into numbers, which can then be used as list indices. For instance, if a hashing function converts the string `\"Aakash\"` into the number `4`, then the key-value pair `('Aakash', '7878787878')` will be stored at the position `4` within the data list.\n",
        "\n",
        "Here's a simple algorithm for hashing, which can convert strings into numeric list indices.\n",
        "\n",
        "1. Iterate over the string, character by character\n",
        "2. Convert each character to a number using Python's built-in `ord` function.\n",
        "3. Add the numbers for each character to obtain the hash for the entire string\n",
        "4. Take the remainder of the result with the size of the data list\n",
        "\n",
        "\n",
        "**QUESTION 2: Complete the `get_index` function below which implements the hashing algorithm described above.**"
      ]
    },
    {
      "cell_type": "code",
      "execution_count": null,
      "id": "broken-vertex",
      "metadata": {
        "id": "broken-vertex"
      },
      "outputs": [],
      "source": [
        "def get_index(data_list, a_string):\n",
        "    # Variable to store the result (updated after each iteration)\n",
        "    result = 0\n",
        "\n",
        "    for a_character in a_string:\n",
        "        # Convert the character to a number (using ord)\n",
        "        a_number = ord(a_character)\n",
        "        # Update result by adding the number\n",
        "        result += a_number\n",
        "\n",
        "    # Take the remainder of the result with the size of the data list\n",
        "    list_index = result % len(data_list)\n",
        "    return list_index"
      ]
    },
    {
      "cell_type": "markdown",
      "id": "political-plain",
      "metadata": {
        "id": "political-plain"
      },
      "source": [
        "If the `get_index` function was defined correctly, the following cells should output `True`."
      ]
    },
    {
      "cell_type": "code",
      "execution_count": null,
      "id": "hairy-margin",
      "metadata": {
        "colab": {
          "base_uri": "https://localhost:8080/"
        },
        "id": "hairy-margin",
        "outputId": "5b4cbc92-ef27-4301-afb6-a21ebf5f1b5f"
      },
      "outputs": [
        {
          "data": {
            "text/plain": [
              "True"
            ]
          },
          "execution_count": 37,
          "metadata": {},
          "output_type": "execute_result"
        }
      ],
      "source": [
        "get_index(data_list, '') == 0"
      ]
    },
    {
      "cell_type": "code",
      "execution_count": null,
      "id": "split-league",
      "metadata": {
        "colab": {
          "base_uri": "https://localhost:8080/"
        },
        "id": "split-league",
        "outputId": "45fc0fa8-25c4-4289-f532-acb6013dced2"
      },
      "outputs": [
        {
          "data": {
            "text/plain": [
              "True"
            ]
          },
          "execution_count": 38,
          "metadata": {},
          "output_type": "execute_result"
        }
      ],
      "source": [
        "get_index(data_list, 'Aakash') == 585"
      ]
    },
    {
      "cell_type": "code",
      "execution_count": null,
      "id": "insured-romania",
      "metadata": {
        "colab": {
          "base_uri": "https://localhost:8080/"
        },
        "id": "insured-romania",
        "outputId": "65195154-327b-4eab-a1ed-01ebc61262eb"
      },
      "outputs": [
        {
          "data": {
            "text/plain": [
              "True"
            ]
          },
          "execution_count": 39,
          "metadata": {},
          "output_type": "execute_result"
        }
      ],
      "source": [
        "get_index(data_list, 'Don O Leary') == 941"
      ]
    },
    {
      "cell_type": "markdown",
      "id": "secret-casting",
      "metadata": {
        "id": "secret-casting"
      },
      "source": [
        "(Optional) Test the `get_index` function using the empty cells below."
      ]
    },
    {
      "cell_type": "code",
      "execution_count": null,
      "id": "close-speaker",
      "metadata": {
        "colab": {
          "base_uri": "https://localhost:8080/"
        },
        "id": "close-speaker",
        "outputId": "d05d8ef5-0e26-429c-e901-766d4cb6147f"
      },
      "outputs": [
        {
          "data": {
            "text/plain": [
              "1903"
            ]
          },
          "execution_count": 40,
          "metadata": {},
          "output_type": "execute_result"
        }
      ],
      "source": [
        "get_index(data_list, 'Thribhuvan The Great')"
      ]
    },
    {
      "cell_type": "code",
      "execution_count": null,
      "id": "pleased-metadata",
      "metadata": {
        "colab": {
          "base_uri": "https://localhost:8080/"
        },
        "id": "pleased-metadata",
        "outputId": "4386ceb9-134e-43b7-def7-1eb5bba7f4a8"
      },
      "outputs": [
        {
          "data": {
            "text/plain": [
              "2252"
            ]
          },
          "execution_count": 41,
          "metadata": {},
          "output_type": "execute_result"
        }
      ],
      "source": [
        "get_index(data_list, 'Ezio Auditore da Firenze')"
      ]
    },
    {
      "cell_type": "markdown",
      "id": "conventional-champion",
      "metadata": {
        "id": "conventional-champion"
      },
      "source": [
        "#### Insert\n",
        "\n",
        "To insert a key-value pair into a hash table, we can simply get the hash of the key, and store the pair at that index in the data list."
      ]
    },
    {
      "cell_type": "code",
      "execution_count": null,
      "id": "applied-receipt",
      "metadata": {
        "id": "applied-receipt"
      },
      "outputs": [],
      "source": [
        "key, value = 'Aakash', '7878787878'"
      ]
    },
    {
      "cell_type": "code",
      "execution_count": null,
      "id": "theoretical-november",
      "metadata": {
        "colab": {
          "base_uri": "https://localhost:8080/"
        },
        "id": "theoretical-november",
        "outputId": "a33e8e70-7087-436b-b5ba-dd79fea82f01"
      },
      "outputs": [
        {
          "data": {
            "text/plain": [
              "585"
            ]
          },
          "execution_count": 43,
          "metadata": {},
          "output_type": "execute_result"
        }
      ],
      "source": [
        "idx = get_index(data_list, key)\n",
        "idx"
      ]
    },
    {
      "cell_type": "code",
      "execution_count": null,
      "id": "animated-mason",
      "metadata": {
        "id": "animated-mason"
      },
      "outputs": [],
      "source": [
        "data_list[idx] = (key, value)"
      ]
    },
    {
      "cell_type": "markdown",
      "id": "attended-blend",
      "metadata": {
        "id": "attended-blend"
      },
      "source": [
        "Here's the same operation expressed in a single line of code."
      ]
    },
    {
      "cell_type": "code",
      "execution_count": null,
      "id": "atlantic-marriage",
      "metadata": {
        "id": "atlantic-marriage"
      },
      "outputs": [],
      "source": [
        "data_list[get_index(data_list, 'Hemanth')] = ('Hemanth', '9595949494')"
      ]
    },
    {
      "cell_type": "markdown",
      "id": "grateful-lyric",
      "metadata": {
        "id": "grateful-lyric"
      },
      "source": [
        "#### Find\n",
        "\n",
        "The retrieve the value associated with a pair, we can get the hash of the key and look up that index in the data list."
      ]
    },
    {
      "cell_type": "code",
      "execution_count": null,
      "id": "banner-austria",
      "metadata": {
        "colab": {
          "base_uri": "https://localhost:8080/"
        },
        "id": "banner-austria",
        "outputId": "10837f80-772b-48c2-9854-876017e47d39"
      },
      "outputs": [
        {
          "data": {
            "text/plain": [
              "585"
            ]
          },
          "execution_count": 46,
          "metadata": {},
          "output_type": "execute_result"
        }
      ],
      "source": [
        "idx = get_index(data_list, 'Aakash')\n",
        "idx"
      ]
    },
    {
      "cell_type": "code",
      "execution_count": null,
      "id": "conceptual-ensemble",
      "metadata": {
        "colab": {
          "base_uri": "https://localhost:8080/"
        },
        "id": "conceptual-ensemble",
        "outputId": "729c5b1f-e96f-43dd-e71e-6f0591b7ac4e"
      },
      "outputs": [
        {
          "data": {
            "text/plain": [
              "('Aakash', '7878787878')"
            ]
          },
          "execution_count": 47,
          "metadata": {},
          "output_type": "execute_result"
        }
      ],
      "source": [
        "key, value = data_list[idx]\n",
        "key, value"
      ]
    },
    {
      "cell_type": "markdown",
      "id": "aggregate-memorial",
      "metadata": {
        "id": "aggregate-memorial"
      },
      "source": [
        "#### List\n",
        "\n",
        "To get the list of keys, we can use a simple [list comprehension](https://www.w3schools.com/python/python_lists_comprehension.asp)."
      ]
    },
    {
      "cell_type": "code",
      "execution_count": null,
      "id": "electric-democracy",
      "metadata": {
        "id": "electric-democracy"
      },
      "outputs": [],
      "source": [
        "pairs = [kv[0] for kv in data_list if kv is not None]"
      ]
    },
    {
      "cell_type": "code",
      "execution_count": null,
      "id": "flying-composer",
      "metadata": {
        "colab": {
          "base_uri": "https://localhost:8080/"
        },
        "id": "flying-composer",
        "outputId": "922ef98f-d2ec-4526-9a86-d4002e43e4ec"
      },
      "outputs": [
        {
          "data": {
            "text/plain": [
              "['Aakash', 'Hemanth']"
            ]
          },
          "execution_count": 49,
          "metadata": {},
          "output_type": "execute_result"
        }
      ],
      "source": [
        "pairs"
      ]
    },
    {
      "cell_type": "markdown",
      "id": "speaking-aerospace",
      "metadata": {
        "id": "speaking-aerospace"
      },
      "source": [
        "Let's save our work before continuing."
      ]
    },
    {
      "cell_type": "code",
      "execution_count": null,
      "id": "wound-medicare",
      "metadata": {
        "colab": {
          "base_uri": "https://localhost:8080/"
        },
        "id": "wound-medicare",
        "outputId": "33f2f596-2f3f-4219-dc5b-ba9ca0613e5b"
      },
      "outputs": [
        {
          "name": "stdout",
          "output_type": "stream",
          "text": [
            "[jovian] Detected Colab notebook...\u001b[0m\n",
            "[jovian] jovian.commit() is no longer required on Google Colab. If you ran this notebook from Jovian, \n",
            "then just save this file in Colab using Ctrl+S/Cmd+S and it will be updated on Jovian. \n",
            "Also, you can also delete this cell, it's no longer necessary.\u001b[0m\n"
          ]
        }
      ],
      "source": [
        "jovian.commit(project=project)"
      ]
    },
    {
      "cell_type": "markdown",
      "id": "geological-medication",
      "metadata": {
        "id": "geological-medication"
      },
      "source": [
        "### Basic Hash Table Implementation\n",
        "\n",
        "We can now use the hashing function defined above to implement a basic hash table in Python.\n",
        "\n",
        "\n",
        "**QUESTION 3: Complete the hash table implementation below by following the instructions in the comments.**\n",
        "\n",
        "_Hint_: Insert and update can have identical implementations.\n"
      ]
    },
    {
      "cell_type": "code",
      "execution_count": null,
      "id": "hydraulic-moses",
      "metadata": {
        "id": "hydraulic-moses"
      },
      "outputs": [],
      "source": [
        "class BasicHashTable:\n",
        "    def __init__(self, max_size=MAX_HASH_TABLE_SIZE):\n",
        "        # 1. Create a list of size `max_size` with all values None\n",
        "        self.data_list = [None] * max_size\n",
        "\n",
        "\n",
        "    def insert(self, key, value):\n",
        "        # 1. Find the index for the key using get_index\n",
        "        idx = get_index(self.data_list, key)\n",
        "\n",
        "        # 2. Store the key-value pair at the right index\n",
        "        self.data_list[idx] = key, value\n",
        "\n",
        "\n",
        "    def find(self, key):\n",
        "        # 1. Find the index for the key using get_index\n",
        "        idx = get_index(self.data_list, key)\n",
        "\n",
        "        # 2. Retrieve the data stored at the index\n",
        "        kv = self.data_list[idx]\n",
        "\n",
        "        # 3. Return the value if found, else return None\n",
        "        if kv is None:\n",
        "            return None\n",
        "        else:\n",
        "          key, value = kv\n",
        "          return value\n",
        "\n",
        "\n",
        "    def update(self, key, value):\n",
        "        # 1. Find the index for the key using get_index\n",
        "        idx = get_index(self.data_list, key)\n",
        "\n",
        "        # 2. Store the new key-value pair at the right index\n",
        "        self.data_list[idx] = key, value\n",
        "\n",
        "\n",
        "    def list_all(self):\n",
        "        # 1. Extract the key from each key-value pair\n",
        "        return [kv[0] for kv in self.data_list if kv is not None]"
      ]
    },
    {
      "cell_type": "markdown",
      "id": "green-health",
      "metadata": {
        "id": "green-health"
      },
      "source": [
        "If the `BasicHashTable` class was defined correctly, the following cells should output `True`."
      ]
    },
    {
      "cell_type": "code",
      "execution_count": null,
      "id": "automotive-aerospace",
      "metadata": {
        "colab": {
          "base_uri": "https://localhost:8080/"
        },
        "id": "automotive-aerospace",
        "outputId": "33503334-7fe6-46f9-a9d6-6d1bef16ede2"
      },
      "outputs": [
        {
          "data": {
            "text/plain": [
              "True"
            ]
          },
          "execution_count": 91,
          "metadata": {},
          "output_type": "execute_result"
        }
      ],
      "source": [
        "basic_table = BasicHashTable(max_size=1024)\n",
        "len(basic_table.data_list) == 1024"
      ]
    },
    {
      "cell_type": "code",
      "execution_count": null,
      "id": "awful-contemporary",
      "metadata": {
        "colab": {
          "base_uri": "https://localhost:8080/"
        },
        "id": "awful-contemporary",
        "outputId": "a39f10df-cccf-4fe7-a2fd-9a225d316da3"
      },
      "outputs": [
        {
          "data": {
            "text/plain": [
              "True"
            ]
          },
          "execution_count": 92,
          "metadata": {},
          "output_type": "execute_result"
        }
      ],
      "source": [
        "# Insert some values\n",
        "basic_table.insert('Aakash', '9999999999')\n",
        "basic_table.insert('Hemanth', '8888888888')\n",
        "\n",
        "# Find a value\n",
        "basic_table.find('Hemanth') == '8888888888'"
      ]
    },
    {
      "cell_type": "code",
      "execution_count": null,
      "id": "sustainable-latter",
      "metadata": {
        "colab": {
          "base_uri": "https://localhost:8080/"
        },
        "id": "sustainable-latter",
        "outputId": "e82da64f-7f3c-4dca-9317-a8daaad8f00a"
      },
      "outputs": [
        {
          "data": {
            "text/plain": [
              "True"
            ]
          },
          "execution_count": 93,
          "metadata": {},
          "output_type": "execute_result"
        }
      ],
      "source": [
        "# Update a value\n",
        "basic_table.update('Aakash', '7777777777')\n",
        "\n",
        "# Check the updated value\n",
        "basic_table.find('Aakash') == '7777777777'"
      ]
    },
    {
      "cell_type": "code",
      "execution_count": null,
      "id": "accredited-fruit",
      "metadata": {
        "colab": {
          "base_uri": "https://localhost:8080/"
        },
        "id": "accredited-fruit",
        "outputId": "e489591a-e55d-4a86-ec9d-2f3507079070"
      },
      "outputs": [
        {
          "data": {
            "text/plain": [
              "True"
            ]
          },
          "execution_count": 94,
          "metadata": {},
          "output_type": "execute_result"
        }
      ],
      "source": [
        "# Get the list of keys\n",
        "\n",
        "basic_table.list_all() == ['Aakash', 'Hemanth']"
      ]
    },
    {
      "cell_type": "markdown",
      "id": "blank-thesaurus",
      "metadata": {
        "id": "blank-thesaurus"
      },
      "source": [
        "(Optional) Test your implementation of `BasicHashTable` with some more examples below."
      ]
    },
    {
      "cell_type": "code",
      "execution_count": null,
      "id": "antique-reverse",
      "metadata": {
        "colab": {
          "base_uri": "https://localhost:8080/"
        },
        "id": "antique-reverse",
        "outputId": "627d513d-e47c-47b3-ee8f-222c136f9660"
      },
      "outputs": [
        {
          "data": {
            "text/plain": [
              "True"
            ]
          },
          "execution_count": 95,
          "metadata": {},
          "output_type": "execute_result"
        }
      ],
      "source": [
        "basic_table.insert('Thribhuvan The Great', '1459')\n",
        "basic_table.find('Thribhuvan The Great') == '1459'"
      ]
    },
    {
      "cell_type": "code",
      "execution_count": null,
      "id": "sustained-surgery",
      "metadata": {
        "colab": {
          "base_uri": "https://localhost:8080/"
        },
        "id": "sustained-surgery",
        "outputId": "71765069-1b5c-4c4f-fd7f-bf66d5f5fa2c"
      },
      "outputs": [
        {
          "data": {
            "text/plain": [
              "True"
            ]
          },
          "execution_count": 96,
          "metadata": {},
          "output_type": "execute_result"
        }
      ],
      "source": [
        "basic_table.update('Thribhuvan The Great', '2003')\n",
        "basic_table.find('Thribhuvan The Great') == '2003'"
      ]
    },
    {
      "cell_type": "code",
      "execution_count": null,
      "id": "cutting-confirmation",
      "metadata": {
        "colab": {
          "base_uri": "https://localhost:8080/"
        },
        "id": "cutting-confirmation",
        "outputId": "431bf5e5-089a-4ed4-ab7a-7e9dae7742e8"
      },
      "outputs": [
        {
          "data": {
            "text/plain": [
              "['Ezio Auditore da Firenze', 'Aakash', 'Hemanth', 'Thribhuvan The Great']"
            ]
          },
          "execution_count": 97,
          "metadata": {},
          "output_type": "execute_result"
        }
      ],
      "source": [
        "basic_table.insert('Ezio Auditore da Firenze', '1459')\n",
        "basic_table.list_all()"
      ]
    },
    {
      "cell_type": "markdown",
      "id": "identified-gather",
      "metadata": {
        "id": "identified-gather"
      },
      "source": [
        "Let's save our work before continuing."
      ]
    },
    {
      "cell_type": "code",
      "execution_count": null,
      "id": "supreme-clearance",
      "metadata": {
        "colab": {
          "base_uri": "https://localhost:8080/"
        },
        "id": "supreme-clearance",
        "outputId": "7e430b4d-324e-4f2f-b558-d37f05064c89"
      },
      "outputs": [
        {
          "name": "stdout",
          "output_type": "stream",
          "text": [
            "[jovian] Detected Colab notebook...\u001b[0m\n",
            "[jovian] jovian.commit() is no longer required on Google Colab. If you ran this notebook from Jovian, \n",
            "then just save this file in Colab using Ctrl+S/Cmd+S and it will be updated on Jovian. \n",
            "Also, you can also delete this cell, it's no longer necessary.\u001b[0m\n"
          ]
        }
      ],
      "source": [
        "jovian.commit(project=project)"
      ]
    },
    {
      "cell_type": "markdown",
      "id": "local-fairy",
      "metadata": {
        "id": "local-fairy"
      },
      "source": [
        "### Handling Collisions with Linear Probing\n",
        "\n",
        "As you might have wondered, multiple keys can have the same hash. For instance, the keys `\"listen\"` and `\"silent\"` have the same hash. This is referred to as _collision_. Data stored against one key may override the data stored against another, if they have the same hash.\n"
      ]
    },
    {
      "cell_type": "code",
      "execution_count": null,
      "id": "designed-bridal",
      "metadata": {
        "id": "designed-bridal"
      },
      "outputs": [],
      "source": [
        "basic_table.insert('listen', 99)"
      ]
    },
    {
      "cell_type": "code",
      "execution_count": null,
      "id": "removed-coating",
      "metadata": {
        "id": "removed-coating"
      },
      "outputs": [],
      "source": [
        "basic_table.insert('silent', 200)"
      ]
    },
    {
      "cell_type": "code",
      "execution_count": null,
      "id": "danish-documentation",
      "metadata": {
        "colab": {
          "base_uri": "https://localhost:8080/"
        },
        "id": "danish-documentation",
        "outputId": "84248adb-995b-4657-b6e1-10c276809aa0"
      },
      "outputs": [
        {
          "data": {
            "text/plain": [
              "200"
            ]
          },
          "execution_count": 101,
          "metadata": {},
          "output_type": "execute_result"
        }
      ],
      "source": [
        "basic_table.find('listen')"
      ]
    },
    {
      "cell_type": "markdown",
      "id": "focal-intent",
      "metadata": {
        "id": "focal-intent"
      },
      "source": [
        "As you can see above, the value for the key `listen` was overwritten by the value for the key `silent`. Our hash table implementation is incomplete because it does not handle collisions correctly.\n",
        "\n",
        "To handle collisions we'll use a technique called linear probing. Here's how it works:\n",
        "\n",
        "1. While inserting a new key-value pair if the target index for a key is occupied by another key, then we try the next index, followed by the next and so on till we the closest empty location.\n",
        "\n",
        "2. While finding a key-value pair, we apply the same strategy, but instead of searching for an empty location, we look for a location which contains a key-value pair with the matching key.\n",
        "\n",
        "2. While updating a key-value pair, we apply the same strategy, but instead of searching for an empty location, we look for a location which contains a key-value pair with the matching key, and update its value.\n",
        "\n",
        "\n",
        "We'll define a function called `get_valid_index`, which starts searching the data list from the index determined by the hashing function `get_index` and returns the first index which is either empty or contains a key-value pair matching the given key.\n",
        "\n",
        "**QUESTION 4: Complete the function `get_valid_index` below by following the instructions in the comments.**"
      ]
    },
    {
      "cell_type": "code",
      "execution_count": null,
      "id": "speaking-reform",
      "metadata": {
        "id": "speaking-reform"
      },
      "outputs": [],
      "source": [
        "def get_valid_index(data_list, key):\n",
        "    # Start with the index returned by get_index\n",
        "    idx = get_index(data_list, key)\n",
        "\n",
        "    while True:\n",
        "        # Get the key-value pair stored at idx\n",
        "        kv = data_list[idx]\n",
        "\n",
        "        # If it is None, return the index\n",
        "        if kv is None:\n",
        "            return idx\n",
        "\n",
        "        # If the stored key matches the given key, return the index\n",
        "        k, v = kv\n",
        "        if k == key:\n",
        "            return idx\n",
        "\n",
        "        # Move to the next index\n",
        "        idx += 1\n",
        "\n",
        "        # Go back to the start if you have reached the end of the array\n",
        "        if idx == len(data_list):\n",
        "            idx = 0"
      ]
    },
    {
      "cell_type": "code",
      "execution_count": null,
      "id": "stable-journalism",
      "metadata": {
        "id": "stable-journalism"
      },
      "outputs": [],
      "source": []
    },
    {
      "cell_type": "markdown",
      "id": "addressed-announcement",
      "metadata": {
        "id": "addressed-announcement"
      },
      "source": [
        "If `get_valid_index` was defined correctly, the following cells should output `True`."
      ]
    },
    {
      "cell_type": "code",
      "execution_count": null,
      "id": "shared-breathing",
      "metadata": {
        "colab": {
          "base_uri": "https://localhost:8080/"
        },
        "id": "shared-breathing",
        "outputId": "1c9b3a02-ad63-4086-f03c-5f624c24c142"
      },
      "outputs": [
        {
          "data": {
            "text/plain": [
              "True"
            ]
          },
          "execution_count": 103,
          "metadata": {},
          "output_type": "execute_result"
        }
      ],
      "source": [
        "# Create an empty hash table\n",
        "data_list2 = [None] * MAX_HASH_TABLE_SIZE\n",
        "\n",
        "# New key 'listen' should return expected index\n",
        "get_valid_index(data_list2, 'listen') == 655"
      ]
    },
    {
      "cell_type": "code",
      "execution_count": null,
      "id": "sophisticated-enterprise",
      "metadata": {
        "colab": {
          "base_uri": "https://localhost:8080/"
        },
        "id": "sophisticated-enterprise",
        "outputId": "4a9e9994-6742-421f-dfff-e8235404f202"
      },
      "outputs": [
        {
          "data": {
            "text/plain": [
              "True"
            ]
          },
          "execution_count": 104,
          "metadata": {},
          "output_type": "execute_result"
        }
      ],
      "source": [
        "# Insert a key-value pair for the key 'listen'\n",
        "data_list2[get_index(data_list2, 'listen')] = ('listen', 99)\n",
        "\n",
        "# Colliding key 'silent' should return next index\n",
        "get_valid_index(data_list2, 'silent') == 656"
      ]
    },
    {
      "cell_type": "markdown",
      "id": "scenic-drink",
      "metadata": {
        "id": "scenic-drink"
      },
      "source": [
        "(Optional) Test your implementation of `get_valid_index` on some more examples using the empty cells below."
      ]
    },
    {
      "cell_type": "code",
      "execution_count": null,
      "id": "parallel-birmingham",
      "metadata": {
        "colab": {
          "base_uri": "https://localhost:8080/"
        },
        "id": "parallel-birmingham",
        "outputId": "405ac264-0d9e-46d4-d7a4-bddf4243e783"
      },
      "outputs": [
        {
          "data": {
            "text/plain": [
              "(492, 493)"
            ]
          },
          "execution_count": 107,
          "metadata": {},
          "output_type": "execute_result"
        }
      ],
      "source": [
        "data_list2[get_index(data_list2, 'Bayek')] = ('Bayek', 69)\n",
        "get_index(data_list2, 'Bayek'), get_valid_index(data_list2, 'Bkeya')"
      ]
    },
    {
      "cell_type": "code",
      "execution_count": null,
      "id": "fewer-stylus",
      "metadata": {
        "colab": {
          "base_uri": "https://localhost:8080/"
        },
        "id": "fewer-stylus",
        "outputId": "1d54dce5-4f9a-4939-dfa6-d72e475a3f55"
      },
      "outputs": [
        {
          "data": {
            "text/plain": [
              "(605, 606)"
            ]
          },
          "execution_count": 114,
          "metadata": {},
          "output_type": "execute_result"
        }
      ],
      "source": [
        "data_list2[get_index(data_list2, 'Altair')] = ('Altair', 100)\n",
        "get_index(data_list2, 'Altair'), get_valid_index(data_list2, 'Ariatl')"
      ]
    },
    {
      "cell_type": "code",
      "execution_count": null,
      "id": "regulated-subject",
      "metadata": {
        "colab": {
          "base_uri": "https://localhost:8080/"
        },
        "id": "regulated-subject",
        "outputId": "780f31ed-49dd-4224-95ee-631cd3d2dc32"
      },
      "outputs": [
        {
          "data": {
            "text/plain": [
              "(623, 624)"
            ]
          },
          "execution_count": 115,
          "metadata": {},
          "output_type": "execute_result"
        }
      ],
      "source": [
        "data_list2[get_index(data_list2, 'Connor')] = ('Connor', 1776)\n",
        "get_index(data_list2, 'Connor'), get_valid_index(data_list2, 'Cronno')"
      ]
    },
    {
      "cell_type": "markdown",
      "id": "lasting-grocery",
      "metadata": {
        "id": "lasting-grocery"
      },
      "source": [
        "Let's save our work before continuing."
      ]
    },
    {
      "cell_type": "code",
      "execution_count": null,
      "id": "pleased-blocking",
      "metadata": {
        "colab": {
          "base_uri": "https://localhost:8080/"
        },
        "id": "pleased-blocking",
        "outputId": "f2f6aea0-057c-4b3d-9ab0-6147d4d194a4"
      },
      "outputs": [
        {
          "name": "stdout",
          "output_type": "stream",
          "text": [
            "[jovian] Detected Colab notebook...\u001b[0m\n",
            "[jovian] jovian.commit() is no longer required on Google Colab. If you ran this notebook from Jovian, \n",
            "then just save this file in Colab using Ctrl+S/Cmd+S and it will be updated on Jovian. \n",
            "Also, you can also delete this cell, it's no longer necessary.\u001b[0m\n"
          ]
        }
      ],
      "source": [
        "jovian.commit(project=project)"
      ]
    },
    {
      "cell_type": "markdown",
      "id": "polish-grill",
      "metadata": {
        "id": "polish-grill"
      },
      "source": [
        "### Hash Table with Linear Probing\n",
        "\n",
        "We can now implement a hash table with linear probing.\n",
        "\n",
        "**QUESTION 5: Complete the hash table (with linear probing) implementation below by following the instructions in the comments.**"
      ]
    },
    {
      "cell_type": "code",
      "execution_count": null,
      "id": "abstract-stanley",
      "metadata": {
        "id": "abstract-stanley"
      },
      "outputs": [],
      "source": [
        "class ProbingHashTable:\n",
        "    def __init__(self, max_size=MAX_HASH_TABLE_SIZE):\n",
        "        # 1. Create a list of size `max_size` with all values None\n",
        "        self.data_list = [None] * max_size\n",
        "\n",
        "\n",
        "    def insert(self, key, value):\n",
        "        # 1. Find the index for the key using get_valid_index\n",
        "        idx = get_valid_index(self.data_list, key)\n",
        "\n",
        "        # 2. Store the key-value pair at the right index\n",
        "        self.data_list[idx] = key, value\n",
        "\n",
        "\n",
        "    def find(self, key):\n",
        "        # 1. Find the index for the key using get_valid_index\n",
        "        idx = get_valid_index(self.data_list, key)\n",
        "\n",
        "        # 2. Retrieve the data stored at the index\n",
        "        kv = self.data_list[idx]\n",
        "\n",
        "        # 3. Return the value if found, else return None\n",
        "        return None if kv is None else kv[1]\n",
        "\n",
        "\n",
        "    def update(self, key, value):\n",
        "        # 1. Find the index for the key using get_valid_index\n",
        "        idx = get_valid_index(self.data_list, key)\n",
        "\n",
        "        # 2. Store the new key-value pair at the right index\n",
        "        self.data_list[idx] = key, value\n",
        "\n",
        "\n",
        "    def list_all(self):\n",
        "        # 1. Extract the key from each key-value pair\n",
        "        return [kv[0] for kv in self.data_list if kv is not None]"
      ]
    },
    {
      "cell_type": "markdown",
      "id": "happy-contributor",
      "metadata": {
        "id": "happy-contributor"
      },
      "source": [
        "If the `ProbingHashTable` class was defined correctly, the following cells should output `True`."
      ]
    },
    {
      "cell_type": "code",
      "execution_count": null,
      "id": "strange-apache",
      "metadata": {
        "colab": {
          "base_uri": "https://localhost:8080/"
        },
        "id": "strange-apache",
        "outputId": "7134c7b8-2fb5-4e98-d7b4-fb569747995d"
      },
      "outputs": [
        {
          "data": {
            "text/plain": [
              "True"
            ]
          },
          "execution_count": 125,
          "metadata": {},
          "output_type": "execute_result"
        }
      ],
      "source": [
        "# Create a new hash table\n",
        "probing_table = ProbingHashTable()\n",
        "\n",
        "# Insert a value\n",
        "probing_table.insert('listen', 99)\n",
        "\n",
        "# Check the value\n",
        "probing_table.find('listen') == 99"
      ]
    },
    {
      "cell_type": "code",
      "execution_count": null,
      "id": "lovely-boost",
      "metadata": {
        "colab": {
          "base_uri": "https://localhost:8080/"
        },
        "id": "lovely-boost",
        "outputId": "91e1017a-f2d1-4761-9210-7bf4a53a05d6"
      },
      "outputs": [
        {
          "data": {
            "text/plain": [
              "True"
            ]
          },
          "execution_count": 126,
          "metadata": {},
          "output_type": "execute_result"
        }
      ],
      "source": [
        "# Insert a colliding key\n",
        "probing_table.insert('silent', 200)\n",
        "\n",
        "# Check the new and old keys\n",
        "probing_table.find('listen') == 99 and probing_table.find('silent') == 200"
      ]
    },
    {
      "cell_type": "code",
      "execution_count": null,
      "id": "yellow-burlington",
      "metadata": {
        "colab": {
          "base_uri": "https://localhost:8080/"
        },
        "id": "yellow-burlington",
        "outputId": "42181fc6-adc4-43d1-bb38-3a07e1d79ff3"
      },
      "outputs": [
        {
          "data": {
            "text/plain": [
              "True"
            ]
          },
          "execution_count": 127,
          "metadata": {},
          "output_type": "execute_result"
        }
      ],
      "source": [
        "# Update a key\n",
        "probing_table.insert('listen', 101)\n",
        "\n",
        "# Check the value\n",
        "probing_table.find('listen') == 101"
      ]
    },
    {
      "cell_type": "code",
      "execution_count": null,
      "id": "assumed-standing",
      "metadata": {
        "colab": {
          "base_uri": "https://localhost:8080/"
        },
        "id": "assumed-standing",
        "outputId": "43945204-a33e-497b-8e4d-c7f2d55859c6"
      },
      "outputs": [
        {
          "data": {
            "text/plain": [
              "True"
            ]
          },
          "execution_count": 128,
          "metadata": {},
          "output_type": "execute_result"
        }
      ],
      "source": [
        "probing_table.list_all() == ['listen', 'silent']"
      ]
    },
    {
      "cell_type": "markdown",
      "id": "precise-zambia",
      "metadata": {
        "id": "precise-zambia"
      },
      "source": [
        "(Optional) Test your implementation of `ProbingHashTable` using the empty cells below."
      ]
    },
    {
      "cell_type": "code",
      "execution_count": null,
      "id": "ideal-retailer",
      "metadata": {
        "id": "ideal-retailer"
      },
      "outputs": [],
      "source": []
    },
    {
      "cell_type": "code",
      "execution_count": null,
      "id": "manual-pendant",
      "metadata": {
        "id": "manual-pendant"
      },
      "outputs": [],
      "source": []
    },
    {
      "cell_type": "code",
      "execution_count": null,
      "id": "automatic-recorder",
      "metadata": {
        "id": "automatic-recorder"
      },
      "outputs": [],
      "source": []
    },
    {
      "cell_type": "markdown",
      "id": "living-graphics",
      "metadata": {
        "id": "living-graphics"
      },
      "source": [
        "Save your work before continuing."
      ]
    },
    {
      "cell_type": "code",
      "execution_count": null,
      "id": "developed-sandwich",
      "metadata": {
        "colab": {
          "base_uri": "https://localhost:8080/"
        },
        "id": "developed-sandwich",
        "outputId": "f582bca0-b46d-401b-965e-980fe3c87852"
      },
      "outputs": [
        {
          "name": "stdout",
          "output_type": "stream",
          "text": [
            "[jovian] Detected Colab notebook...\u001b[0m\n",
            "[jovian] jovian.commit() is no longer required on Google Colab. If you ran this notebook from Jovian, \n",
            "then just save this file in Colab using Ctrl+S/Cmd+S and it will be updated on Jovian. \n",
            "Also, you can also delete this cell, it's no longer necessary.\u001b[0m\n"
          ]
        }
      ],
      "source": [
        "jovian.commit(project=project)"
      ]
    },
    {
      "cell_type": "markdown",
      "id": "lined-somalia",
      "metadata": {
        "id": "lined-somalia"
      },
      "source": [
        "### Make a Submission\n",
        "\n",
        "Congrats! You have now implemented hash tables from scratch. The rest of this assignment is optional.\n",
        "\n",
        "You can make a submission on this page: https://jovian.ai/learn/data-structures-and-algorithms-in-python/assignment/assignment-2-hash-table-and-python-dictionaries . Submit the link to your Jovian notebook (the output of the previous cell).\n",
        "\n",
        "\n",
        "You can also make a direct submission by executing the following cell:"
      ]
    },
    {
      "cell_type": "code",
      "execution_count": null,
      "id": "european-norwegian",
      "metadata": {
        "colab": {
          "base_uri": "https://localhost:8080/"
        },
        "id": "european-norwegian",
        "outputId": "2533aa45-d6bb-4e20-d8ae-bb867beb7a84"
      },
      "outputs": [
        {
          "name": "stdout",
          "output_type": "stream",
          "text": [
            "[jovian] Detected Colab notebook...\u001b[0m\n",
            "[jovian] jovian.commit() is no longer required on Google Colab. If you ran this notebook from Jovian, \n",
            "then just save this file in Colab using Ctrl+S/Cmd+S and it will be updated on Jovian. \n",
            "Also, you can also delete this cell, it's no longer necessary.\u001b[0m\n"
          ]
        }
      ],
      "source": [
        "jovian.submit(assignment=\"pythondsa-assignment2\")"
      ]
    },
    {
      "cell_type": "markdown",
      "id": "frank-valve",
      "metadata": {
        "id": "frank-valve"
      },
      "source": [
        "If you are stuck, you can get help on the forum: https://jovian.ai/forum/c/data-structures-and-algorithms-in-python/assignment-2/88"
      ]
    },
    {
      "cell_type": "markdown",
      "id": "qualified-affairs",
      "metadata": {
        "id": "qualified-affairs"
      },
      "source": [
        "### (Optional) Python Dictionaries using Hash Tables\n",
        "\n",
        "We can now implement Python dictionaries using hash tables. Also, Python provides a built-in function called `hash` which we can use instead of our custom hash function. It is likely to have far fewer collisions\n",
        "\n",
        "**(Optional) Question: Implement a python-friendly interface for the hash table.**"
      ]
    },
    {
      "cell_type": "code",
      "execution_count": null,
      "id": "typical-copper",
      "metadata": {
        "id": "typical-copper"
      },
      "outputs": [],
      "source": [
        "MAX_HASH_TABLE_SIZE = 4096\n",
        "\n",
        "class HashTable:\n",
        "    def __init__(self, max_size=MAX_HASH_TABLE_SIZE):\n",
        "        self.data_list = [None] * max_size\n",
        "\n",
        "    def get_valid_index(self, key):\n",
        "        # Use Python's in-built `hash` function and implement linear probing\n",
        "        pass # change this\n",
        "\n",
        "    def __getitem__(self, key):\n",
        "        # Implement the logic for \"find\" here\n",
        "        pass # change this\n",
        "\n",
        "    def __setitem__(self, key, value):\n",
        "        # Implement the logic for \"insert/update\" here\n",
        "        pass # change this\n",
        "\n",
        "    def __iter__(self):\n",
        "        return (x for x in self.data_list if x is not None)\n",
        "\n",
        "    def __len__(self):\n",
        "        return len([x for x in self])\n",
        "\n",
        "    def __repr__(self):\n",
        "        from textwrap import indent\n",
        "        pairs = [indent(\"{} : {}\".format(repr(kv[0]), repr(kv[1])), '  ') for kv in self]\n",
        "        return \"{\\n\" + \"{}\".format(',\\n'.join(pairs)) + \"\\n}\"\n",
        "\n",
        "    def __str__(self):\n",
        "        return repr(self)"
      ]
    },
    {
      "cell_type": "markdown",
      "id": "popular-warren",
      "metadata": {
        "id": "popular-warren"
      },
      "source": [
        "If the `HashTable` class was defined correctly, the following cells should output `True`."
      ]
    },
    {
      "cell_type": "code",
      "execution_count": null,
      "id": "controlling-estate",
      "metadata": {
        "id": "controlling-estate",
        "outputId": "700df2e8-5759-433e-bf57-daf13b2147a1"
      },
      "outputs": [
        {
          "data": {
            "text/plain": [
              "True"
            ]
          },
          "execution_count": 86,
          "metadata": {},
          "output_type": "execute_result"
        }
      ],
      "source": [
        "# Create a hash table\n",
        "table = HashTable()\n",
        "\n",
        "# Insert some key-value pairs\n",
        "table['a'] = 1\n",
        "table['b'] = 34\n",
        "\n",
        "# Retrieve the inserted values\n",
        "table['a'] == 1 and table['b'] == 34"
      ]
    },
    {
      "cell_type": "code",
      "execution_count": null,
      "id": "driving-afternoon",
      "metadata": {
        "id": "driving-afternoon",
        "outputId": "cdab1d77-857a-40d9-ad2f-1aa507cbe529"
      },
      "outputs": [
        {
          "data": {
            "text/plain": [
              "True"
            ]
          },
          "execution_count": 87,
          "metadata": {},
          "output_type": "execute_result"
        }
      ],
      "source": [
        "# Update a value\n",
        "table['a'] = 99\n",
        "\n",
        "# Check the updated value\n",
        "table['a'] == 99"
      ]
    },
    {
      "cell_type": "code",
      "execution_count": null,
      "id": "restricted-power",
      "metadata": {
        "id": "restricted-power",
        "outputId": "4aae52dd-a305-430b-c795-7b891b72422a"
      },
      "outputs": [
        {
          "data": {
            "text/plain": [
              "True"
            ]
          },
          "execution_count": 88,
          "metadata": {},
          "output_type": "execute_result"
        }
      ],
      "source": [
        "# Get a list of key-value pairs\n",
        "list(table) == [('a', 99), ('b', 34)]"
      ]
    },
    {
      "cell_type": "markdown",
      "id": "hispanic-depth",
      "metadata": {
        "id": "hispanic-depth"
      },
      "source": [
        "Since we have also implemented the `__repr__` and `__str__` functions, the output of the next cell should be:\n",
        "\n",
        "```\n",
        "{\n",
        "  'a' : 99,\n",
        "  'b' : 34\n",
        "}\n",
        "```"
      ]
    },
    {
      "cell_type": "code",
      "execution_count": null,
      "id": "black-cedar",
      "metadata": {
        "id": "black-cedar",
        "outputId": "3cce264a-1b51-4cae-a4fb-3037fabfd967"
      },
      "outputs": [
        {
          "data": {
            "text/plain": [
              "{\n",
              "  'a' : 99,\n",
              "  'b' : 34\n",
              "}"
            ]
          },
          "execution_count": 89,
          "metadata": {},
          "output_type": "execute_result"
        }
      ],
      "source": [
        "table"
      ]
    },
    {
      "cell_type": "markdown",
      "id": "electrical-aberdeen",
      "metadata": {
        "id": "electrical-aberdeen"
      },
      "source": [
        "Let's save our work before continuing."
      ]
    },
    {
      "cell_type": "code",
      "execution_count": null,
      "id": "apparent-spider",
      "metadata": {
        "id": "apparent-spider"
      },
      "outputs": [],
      "source": [
        "import jovian"
      ]
    },
    {
      "cell_type": "code",
      "execution_count": null,
      "id": "tropical-singer",
      "metadata": {
        "id": "tropical-singer",
        "outputId": "fa9ed4ae-01f6-43f3-e512-bacedd950ec5"
      },
      "outputs": [
        {
          "data": {
            "application/javascript": [
              "window.require && require([\"base/js/namespace\"],function(Jupyter){Jupyter.notebook.save_checkpoint()})"
            ],
            "text/plain": [
              "<IPython.core.display.Javascript object>"
            ]
          },
          "metadata": {},
          "output_type": "display_data"
        },
        {
          "name": "stdout",
          "output_type": "stream",
          "text": [
            "[jovian] Attempting to save notebook..\u001b[0m\n",
            "[jovian] Updating notebook \"aakashns/python-hash-tables-assignment\" on https://jovian.ai/\u001b[0m\n",
            "[jovian] Uploading notebook..\u001b[0m\n",
            "[jovian] Capturing environment..\u001b[0m\n",
            "[jovian] Committed successfully! https://jovian.ai/aakashns/python-hash-tables-assignment\u001b[0m\n"
          ]
        },
        {
          "data": {
            "text/plain": [
              "'https://jovian.ai/aakashns/python-hash-tables-assignment'"
            ]
          },
          "execution_count": 92,
          "metadata": {},
          "output_type": "execute_result"
        }
      ],
      "source": [
        "jovian.commit(project=project)"
      ]
    },
    {
      "cell_type": "markdown",
      "id": "great-piece",
      "metadata": {
        "id": "great-piece"
      },
      "source": [
        "### (Optional) Hash Table Improvements\n",
        "\n",
        "Here are some more improvements/changes you can make to your hash table implementation:\n",
        "\n",
        "* **Track the size of the hash table** i.e. number of key-value pairs so that `len(table)` has complexity O(1).\n",
        "* **Implement deletion with tombstones** as described here: https://research.cs.vt.edu/AVresearch/hashing/deletion.php\n",
        "* **Implement dynamic resizing** to automatically grow/shrink the data list: https://charlesreid1.com/wiki/Hash_Maps/Dynamic_Resizing\n",
        "* **Implement separate chaining**, an alternative to linear probing for collision resolution: https://www.youtube.com/watch/T9gct6Dx-jo\n"
      ]
    },
    {
      "cell_type": "markdown",
      "id": "annoying-background",
      "metadata": {
        "id": "annoying-background"
      },
      "source": [
        "### (Optional) Complexity Analysis\n",
        "\n",
        "With choice of a good hashing function and other improvements like dynamic resizing, you can\n",
        "\n",
        "\n",
        "| Operation      | Average-case time complexity | Worst-case time complexity |\n",
        "| ----------- | ----------- |---------|\n",
        "| Insert/Update      | **O(1)**    | **O(n)**|\n",
        "| Find   | **O(1)**    | **O(n)**|\n",
        "| Delete   | **O(1)**    | **O(n)**|\n",
        "| List   | **O(n)**    | **O(n)**|\n",
        "\n",
        "\n",
        "Here are some questions to ponder upon?\n",
        "\n",
        "- What is average case complexity? How does it differ from worst-case complexity?\n",
        "- Do you see why insert/find/update have average-case complexity of O(1) and worst-case complexity of O(n) ?\n",
        "- How is the complexity of hash tables different from binary search trees?\n",
        "- When should you prefer using hash table over binary trees or vice versa?\n",
        "\n",
        "Discuss your answers on the forum: https://jovian.ai/forum/c/data-structures-and-algorithms-in-python/assignment-2/88"
      ]
    }
  ],
  "metadata": {
    "colab": {
      "provenance": [],
      "include_colab_link": true
    },
    "kernelspec": {
      "display_name": "Python 3",
      "language": "python",
      "name": "python3"
    },
    "language_info": {
      "codemirror_mode": {
        "name": "ipython",
        "version": 3
      },
      "file_extension": ".py",
      "mimetype": "text/x-python",
      "name": "python",
      "nbconvert_exporter": "python",
      "pygments_lexer": "ipython3",
      "version": "3.6.12"
    }
  },
  "nbformat": 4,
  "nbformat_minor": 5
}